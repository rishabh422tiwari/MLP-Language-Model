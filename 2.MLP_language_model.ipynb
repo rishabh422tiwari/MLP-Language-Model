{
  "nbformat": 4,
  "nbformat_minor": 0,
  "metadata": {
    "colab": {
      "provenance": [],
      "authorship_tag": "ABX9TyM5cYpIlOiojH2Hq9rtTJmS",
      "include_colab_link": true
    },
    "kernelspec": {
      "name": "python3",
      "display_name": "Python 3"
    },
    "language_info": {
      "name": "python"
    }
  },
  "cells": [
    {
      "cell_type": "markdown",
      "metadata": {
        "id": "view-in-github",
        "colab_type": "text"
      },
      "source": [
        "<a href=\"https://colab.research.google.com/github/rishabh422tiwari/MLP-Language-Model/blob/main/2.MLP_language_model.ipynb\" target=\"_parent\"><img src=\"https://colab.research.google.com/assets/colab-badge.svg\" alt=\"Open In Colab\"/></a>"
      ]
    },
    {
      "cell_type": "markdown",
      "source": [],
      "metadata": {
        "id": "kq6abBGnsQVg"
      }
    },
    {
      "cell_type": "code",
      "execution_count": null,
      "metadata": {
        "id": "29bAtmC4x3vx"
      },
      "outputs": [],
      "source": [
        "import torch\n",
        "import torch.nn.functional as F\n",
        "import matplotlib.pyplot as plt # for making figure\n",
        "%matplotlib inline"
      ]
    },
    {
      "cell_type": "code",
      "source": [
        "# read in all the words\n",
        "words = open('names.txt').read().splitlines()\n",
        "words[:8]"
      ],
      "metadata": {
        "colab": {
          "base_uri": "https://localhost:8080/"
        },
        "id": "K51jlOU2DmIh",
        "outputId": "cc9d950e-be8c-4fca-e4d5-de4492e1ba92"
      },
      "execution_count": null,
      "outputs": [
        {
          "output_type": "execute_result",
          "data": {
            "text/plain": [
              "['emma', 'olivia', 'ava', 'isabella', 'sophia', 'charlotte', 'mia', 'amelia']"
            ]
          },
          "metadata": {},
          "execution_count": 92
        }
      ]
    },
    {
      "cell_type": "code",
      "source": [
        "len(words)"
      ],
      "metadata": {
        "colab": {
          "base_uri": "https://localhost:8080/"
        },
        "id": "gKDft2ejF3IU",
        "outputId": "fce317cb-1591-483c-9ac8-51c4f2fc8b11"
      },
      "execution_count": null,
      "outputs": [
        {
          "output_type": "execute_result",
          "data": {
            "text/plain": [
              "32033"
            ]
          },
          "metadata": {},
          "execution_count": 93
        }
      ]
    },
    {
      "cell_type": "code",
      "source": [
        "# build the vocabulary of characters and mapping to/from integers\n",
        "chars = sorted(list(set(''.join(words))))\n",
        "stoi = {s:i+1 for i,s in enumerate(chars)}\n",
        "stoi['.']=0\n",
        "itos = {i:s for s,i in stoi.items()}\n",
        "print(itos)"
      ],
      "metadata": {
        "colab": {
          "base_uri": "https://localhost:8080/"
        },
        "id": "QkA2tyQBF3Fu",
        "outputId": "e9220046-d4c8-465e-d559-f64764dd8d75"
      },
      "execution_count": null,
      "outputs": [
        {
          "output_type": "stream",
          "name": "stdout",
          "text": [
            "{1: 'a', 2: 'b', 3: 'c', 4: 'd', 5: 'e', 6: 'f', 7: 'g', 8: 'h', 9: 'i', 10: 'j', 11: 'k', 12: 'l', 13: 'm', 14: 'n', 15: 'o', 16: 'p', 17: 'q', 18: 'r', 19: 's', 20: 't', 21: 'u', 22: 'v', 23: 'w', 24: 'x', 25: 'y', 26: 'z', 0: '.'}\n"
          ]
        }
      ]
    },
    {
      "cell_type": "code",
      "source": [
        "# build the dataset               first five example\n",
        "\n",
        "block_size = 3  # context length: how many characters do we take to predict the next one?\n",
        "X, Y = [], []\n",
        "for w in words[:5]:\n",
        "\n",
        "  print(w)\n",
        "  context = [0] * block_size\n",
        "  for ch in w + '.':\n",
        "    ix = stoi[ch]\n",
        "    X.append(context)\n",
        "    Y.append(ix)\n",
        "    print(''.join(itos[i] for i in context), '--->', itos[ix])\n",
        "    context = context[1:] + [ix] # crop and append\n",
        "\n",
        "X = torch.tensor(X)\n",
        "Y = torch.tensor(Y)"
      ],
      "metadata": {
        "colab": {
          "base_uri": "https://localhost:8080/"
        },
        "id": "D1oae6HqF2r2",
        "outputId": "58e61358-7ae1-4049-be9a-7a30890bfc88"
      },
      "execution_count": null,
      "outputs": [
        {
          "output_type": "stream",
          "name": "stdout",
          "text": [
            "emma\n",
            "... ---> e\n",
            "..e ---> m\n",
            ".em ---> m\n",
            "emm ---> a\n",
            "mma ---> .\n",
            "olivia\n",
            "... ---> o\n",
            "..o ---> l\n",
            ".ol ---> i\n",
            "oli ---> v\n",
            "liv ---> i\n",
            "ivi ---> a\n",
            "via ---> .\n",
            "ava\n",
            "... ---> a\n",
            "..a ---> v\n",
            ".av ---> a\n",
            "ava ---> .\n",
            "isabella\n",
            "... ---> i\n",
            "..i ---> s\n",
            ".is ---> a\n",
            "isa ---> b\n",
            "sab ---> e\n",
            "abe ---> l\n",
            "bel ---> l\n",
            "ell ---> a\n",
            "lla ---> .\n",
            "sophia\n",
            "... ---> s\n",
            "..s ---> o\n",
            ".so ---> p\n",
            "sop ---> h\n",
            "oph ---> i\n",
            "phi ---> a\n",
            "hia ---> .\n"
          ]
        }
      ]
    },
    {
      "cell_type": "code",
      "source": [
        "X.shape, X.dtype, Y.shape, Y.dtype"
      ],
      "metadata": {
        "colab": {
          "base_uri": "https://localhost:8080/"
        },
        "id": "tvUr_nlHXkCx",
        "outputId": "f66e2bcc-e437-4a0f-a5bd-eaf4989bbe09"
      },
      "execution_count": null,
      "outputs": [
        {
          "output_type": "execute_result",
          "data": {
            "text/plain": [
              "(torch.Size([32, 3]), torch.int64, torch.Size([32]), torch.int64)"
            ]
          },
          "metadata": {},
          "execution_count": 96
        }
      ]
    },
    {
      "cell_type": "code",
      "source": [
        "X"
      ],
      "metadata": {
        "colab": {
          "base_uri": "https://localhost:8080/"
        },
        "id": "GsQTnnOiXj_j",
        "outputId": "de93eab6-7894-4b3f-b93c-d21c6bdc89b6"
      },
      "execution_count": null,
      "outputs": [
        {
          "output_type": "execute_result",
          "data": {
            "text/plain": [
              "tensor([[ 0,  0,  0],\n",
              "        [ 0,  0,  5],\n",
              "        [ 0,  5, 13],\n",
              "        [ 5, 13, 13],\n",
              "        [13, 13,  1],\n",
              "        [ 0,  0,  0],\n",
              "        [ 0,  0, 15],\n",
              "        [ 0, 15, 12],\n",
              "        [15, 12,  9],\n",
              "        [12,  9, 22],\n",
              "        [ 9, 22,  9],\n",
              "        [22,  9,  1],\n",
              "        [ 0,  0,  0],\n",
              "        [ 0,  0,  1],\n",
              "        [ 0,  1, 22],\n",
              "        [ 1, 22,  1],\n",
              "        [ 0,  0,  0],\n",
              "        [ 0,  0,  9],\n",
              "        [ 0,  9, 19],\n",
              "        [ 9, 19,  1],\n",
              "        [19,  1,  2],\n",
              "        [ 1,  2,  5],\n",
              "        [ 2,  5, 12],\n",
              "        [ 5, 12, 12],\n",
              "        [12, 12,  1],\n",
              "        [ 0,  0,  0],\n",
              "        [ 0,  0, 19],\n",
              "        [ 0, 19, 15],\n",
              "        [19, 15, 16],\n",
              "        [15, 16,  8],\n",
              "        [16,  8,  9],\n",
              "        [ 8,  9,  1]])"
            ]
          },
          "metadata": {},
          "execution_count": 97
        }
      ]
    },
    {
      "cell_type": "code",
      "source": [
        "Y"
      ],
      "metadata": {
        "colab": {
          "base_uri": "https://localhost:8080/"
        },
        "id": "vIICTvqRXj8b",
        "outputId": "6045002e-9e30-4535-e2d4-8f55c22825f7"
      },
      "execution_count": null,
      "outputs": [
        {
          "output_type": "execute_result",
          "data": {
            "text/plain": [
              "tensor([ 5, 13, 13,  1,  0, 15, 12,  9, 22,  9,  1,  0,  1, 22,  1,  0,  9, 19,\n",
              "         1,  2,  5, 12, 12,  1,  0, 19, 15, 16,  8,  9,  1,  0])"
            ]
          },
          "metadata": {},
          "execution_count": 98
        }
      ]
    },
    {
      "cell_type": "code",
      "source": [
        "C = torch.randn((27,2))"
      ],
      "metadata": {
        "id": "_QMDkp2EXj5k"
      },
      "execution_count": null,
      "outputs": []
    },
    {
      "cell_type": "code",
      "source": [
        "C"
      ],
      "metadata": {
        "colab": {
          "base_uri": "https://localhost:8080/"
        },
        "id": "Woa-at6dXj2x",
        "outputId": "813838b3-efea-45d5-d27b-664c50d7dfd9"
      },
      "execution_count": null,
      "outputs": [
        {
          "output_type": "execute_result",
          "data": {
            "text/plain": [
              "tensor([[-0.5300,  0.9214],\n",
              "        [-0.0322, -0.3420],\n",
              "        [ 0.6079, -1.7622],\n",
              "        [-1.3858, -0.0878],\n",
              "        [ 0.5111,  0.7423],\n",
              "        [-0.1326, -1.6317],\n",
              "        [ 0.2726,  0.3399],\n",
              "        [ 0.5822, -0.5434],\n",
              "        [ 0.4216,  0.3385],\n",
              "        [ 0.7720,  1.9472],\n",
              "        [ 0.2388,  0.0255],\n",
              "        [-1.5791,  0.1018],\n",
              "        [ 0.3560,  0.3165],\n",
              "        [-0.4487,  1.4295],\n",
              "        [-1.1362, -0.1069],\n",
              "        [ 0.3253,  0.0485],\n",
              "        [-0.5483, -1.0262],\n",
              "        [-2.3383,  0.5154],\n",
              "        [-0.9863, -1.7796],\n",
              "        [ 0.2868, -0.1935],\n",
              "        [-0.0207, -2.2056],\n",
              "        [-1.1722,  1.5238],\n",
              "        [-0.2361, -0.1660],\n",
              "        [ 1.4710, -0.2763],\n",
              "        [-0.7373, -0.0963],\n",
              "        [-0.6910, -0.5308],\n",
              "        [ 0.6895,  1.4781]])"
            ]
          },
          "metadata": {},
          "execution_count": 100
        }
      ]
    },
    {
      "cell_type": "code",
      "source": [
        "C[5]"
      ],
      "metadata": {
        "colab": {
          "base_uri": "https://localhost:8080/"
        },
        "id": "Eg1nUA1bXjz5",
        "outputId": "1b10da0f-2d3e-435e-8efb-546af1897dac"
      },
      "execution_count": null,
      "outputs": [
        {
          "output_type": "execute_result",
          "data": {
            "text/plain": [
              "tensor([-0.1326, -1.6317])"
            ]
          },
          "metadata": {},
          "execution_count": 101
        }
      ]
    },
    {
      "cell_type": "code",
      "source": [
        "#F.one_hot(torch.tensor(5), num_classes=27).float() @ C     achieving the same results but indexing is faster."
      ],
      "metadata": {
        "id": "9P_EryCNXjxC"
      },
      "execution_count": null,
      "outputs": []
    },
    {
      "cell_type": "code",
      "source": [
        "C[torch.tensor([5,6,7,7,7,7,])]"
      ],
      "metadata": {
        "colab": {
          "base_uri": "https://localhost:8080/"
        },
        "id": "5C5KPx3cXjua",
        "outputId": "ea79e2c8-99d6-4f75-ff4a-028bf6174f45"
      },
      "execution_count": null,
      "outputs": [
        {
          "output_type": "execute_result",
          "data": {
            "text/plain": [
              "tensor([[-0.1326, -1.6317],\n",
              "        [ 0.2726,  0.3399],\n",
              "        [ 0.5822, -0.5434],\n",
              "        [ 0.5822, -0.5434],\n",
              "        [ 0.5822, -0.5434],\n",
              "        [ 0.5822, -0.5434]])"
            ]
          },
          "metadata": {},
          "execution_count": 103
        }
      ]
    },
    {
      "cell_type": "code",
      "source": [
        "C[X].shape"
      ],
      "metadata": {
        "colab": {
          "base_uri": "https://localhost:8080/"
        },
        "id": "Ms3_Q5BmXjsD",
        "outputId": "9b34fc28-1d2e-4293-aa60-390a6942dd69"
      },
      "execution_count": null,
      "outputs": [
        {
          "output_type": "execute_result",
          "data": {
            "text/plain": [
              "torch.Size([32, 3, 2])"
            ]
          },
          "metadata": {},
          "execution_count": 104
        }
      ]
    },
    {
      "cell_type": "code",
      "source": [
        "X[13,2]"
      ],
      "metadata": {
        "colab": {
          "base_uri": "https://localhost:8080/"
        },
        "id": "jZxul_zGcD_z",
        "outputId": "f236f78d-fa03-4bda-8247-9c25413ea835"
      },
      "execution_count": null,
      "outputs": [
        {
          "output_type": "execute_result",
          "data": {
            "text/plain": [
              "tensor(1)"
            ]
          },
          "metadata": {},
          "execution_count": 105
        }
      ]
    },
    {
      "cell_type": "code",
      "source": [
        "print(C[X])"
      ],
      "metadata": {
        "colab": {
          "base_uri": "https://localhost:8080/"
        },
        "id": "Mr2XeI60cFmY",
        "outputId": "7b63825b-aa36-4f8d-af95-70a806395c25"
      },
      "execution_count": null,
      "outputs": [
        {
          "output_type": "stream",
          "name": "stdout",
          "text": [
            "tensor([[[-0.5300,  0.9214],\n",
            "         [-0.5300,  0.9214],\n",
            "         [-0.5300,  0.9214]],\n",
            "\n",
            "        [[-0.5300,  0.9214],\n",
            "         [-0.5300,  0.9214],\n",
            "         [-0.1326, -1.6317]],\n",
            "\n",
            "        [[-0.5300,  0.9214],\n",
            "         [-0.1326, -1.6317],\n",
            "         [-0.4487,  1.4295]],\n",
            "\n",
            "        [[-0.1326, -1.6317],\n",
            "         [-0.4487,  1.4295],\n",
            "         [-0.4487,  1.4295]],\n",
            "\n",
            "        [[-0.4487,  1.4295],\n",
            "         [-0.4487,  1.4295],\n",
            "         [-0.0322, -0.3420]],\n",
            "\n",
            "        [[-0.5300,  0.9214],\n",
            "         [-0.5300,  0.9214],\n",
            "         [-0.5300,  0.9214]],\n",
            "\n",
            "        [[-0.5300,  0.9214],\n",
            "         [-0.5300,  0.9214],\n",
            "         [ 0.3253,  0.0485]],\n",
            "\n",
            "        [[-0.5300,  0.9214],\n",
            "         [ 0.3253,  0.0485],\n",
            "         [ 0.3560,  0.3165]],\n",
            "\n",
            "        [[ 0.3253,  0.0485],\n",
            "         [ 0.3560,  0.3165],\n",
            "         [ 0.7720,  1.9472]],\n",
            "\n",
            "        [[ 0.3560,  0.3165],\n",
            "         [ 0.7720,  1.9472],\n",
            "         [-0.2361, -0.1660]],\n",
            "\n",
            "        [[ 0.7720,  1.9472],\n",
            "         [-0.2361, -0.1660],\n",
            "         [ 0.7720,  1.9472]],\n",
            "\n",
            "        [[-0.2361, -0.1660],\n",
            "         [ 0.7720,  1.9472],\n",
            "         [-0.0322, -0.3420]],\n",
            "\n",
            "        [[-0.5300,  0.9214],\n",
            "         [-0.5300,  0.9214],\n",
            "         [-0.5300,  0.9214]],\n",
            "\n",
            "        [[-0.5300,  0.9214],\n",
            "         [-0.5300,  0.9214],\n",
            "         [-0.0322, -0.3420]],\n",
            "\n",
            "        [[-0.5300,  0.9214],\n",
            "         [-0.0322, -0.3420],\n",
            "         [-0.2361, -0.1660]],\n",
            "\n",
            "        [[-0.0322, -0.3420],\n",
            "         [-0.2361, -0.1660],\n",
            "         [-0.0322, -0.3420]],\n",
            "\n",
            "        [[-0.5300,  0.9214],\n",
            "         [-0.5300,  0.9214],\n",
            "         [-0.5300,  0.9214]],\n",
            "\n",
            "        [[-0.5300,  0.9214],\n",
            "         [-0.5300,  0.9214],\n",
            "         [ 0.7720,  1.9472]],\n",
            "\n",
            "        [[-0.5300,  0.9214],\n",
            "         [ 0.7720,  1.9472],\n",
            "         [ 0.2868, -0.1935]],\n",
            "\n",
            "        [[ 0.7720,  1.9472],\n",
            "         [ 0.2868, -0.1935],\n",
            "         [-0.0322, -0.3420]],\n",
            "\n",
            "        [[ 0.2868, -0.1935],\n",
            "         [-0.0322, -0.3420],\n",
            "         [ 0.6079, -1.7622]],\n",
            "\n",
            "        [[-0.0322, -0.3420],\n",
            "         [ 0.6079, -1.7622],\n",
            "         [-0.1326, -1.6317]],\n",
            "\n",
            "        [[ 0.6079, -1.7622],\n",
            "         [-0.1326, -1.6317],\n",
            "         [ 0.3560,  0.3165]],\n",
            "\n",
            "        [[-0.1326, -1.6317],\n",
            "         [ 0.3560,  0.3165],\n",
            "         [ 0.3560,  0.3165]],\n",
            "\n",
            "        [[ 0.3560,  0.3165],\n",
            "         [ 0.3560,  0.3165],\n",
            "         [-0.0322, -0.3420]],\n",
            "\n",
            "        [[-0.5300,  0.9214],\n",
            "         [-0.5300,  0.9214],\n",
            "         [-0.5300,  0.9214]],\n",
            "\n",
            "        [[-0.5300,  0.9214],\n",
            "         [-0.5300,  0.9214],\n",
            "         [ 0.2868, -0.1935]],\n",
            "\n",
            "        [[-0.5300,  0.9214],\n",
            "         [ 0.2868, -0.1935],\n",
            "         [ 0.3253,  0.0485]],\n",
            "\n",
            "        [[ 0.2868, -0.1935],\n",
            "         [ 0.3253,  0.0485],\n",
            "         [-0.5483, -1.0262]],\n",
            "\n",
            "        [[ 0.3253,  0.0485],\n",
            "         [-0.5483, -1.0262],\n",
            "         [ 0.4216,  0.3385]],\n",
            "\n",
            "        [[-0.5483, -1.0262],\n",
            "         [ 0.4216,  0.3385],\n",
            "         [ 0.7720,  1.9472]],\n",
            "\n",
            "        [[ 0.4216,  0.3385],\n",
            "         [ 0.7720,  1.9472],\n",
            "         [-0.0322, -0.3420]]])\n"
          ]
        }
      ]
    },
    {
      "cell_type": "code",
      "source": [
        "X[13,2]                 # our list"
      ],
      "metadata": {
        "colab": {
          "base_uri": "https://localhost:8080/"
        },
        "id": "B7nYFvl2cFjs",
        "outputId": "0a0ce16b-6096-426d-ae64-ea069110d442"
      },
      "execution_count": null,
      "outputs": [
        {
          "output_type": "execute_result",
          "data": {
            "text/plain": [
              "tensor(1)"
            ]
          },
          "metadata": {},
          "execution_count": 107
        }
      ]
    },
    {
      "cell_type": "code",
      "source": [
        "C[X][13,2]               # word embedding vector for integer 1"
      ],
      "metadata": {
        "colab": {
          "base_uri": "https://localhost:8080/"
        },
        "id": "hlzj-zfjcFgo",
        "outputId": "83cc36e0-fe79-4a3b-a7af-c9474472b0d6"
      },
      "execution_count": null,
      "outputs": [
        {
          "output_type": "execute_result",
          "data": {
            "text/plain": [
              "tensor([-0.0322, -0.3420])"
            ]
          },
          "metadata": {},
          "execution_count": 108
        }
      ]
    },
    {
      "cell_type": "code",
      "source": [
        "C[1]                      # we can check the embedding vector for integer 1"
      ],
      "metadata": {
        "colab": {
          "base_uri": "https://localhost:8080/"
        },
        "id": "BVp2EfyGcFd9",
        "outputId": "37c8689c-4e2a-4091-e7ce-26414a86194e"
      },
      "execution_count": null,
      "outputs": [
        {
          "output_type": "execute_result",
          "data": {
            "text/plain": [
              "tensor([-0.0322, -0.3420])"
            ]
          },
          "metadata": {},
          "execution_count": 109
        }
      ]
    },
    {
      "cell_type": "code",
      "source": [
        "emb = C[X]\n",
        "emb.shape"
      ],
      "metadata": {
        "colab": {
          "base_uri": "https://localhost:8080/"
        },
        "id": "doGMHge1enJw",
        "outputId": "953f5a3b-f338-488d-f3e3-49097c6b10a2"
      },
      "execution_count": null,
      "outputs": [
        {
          "output_type": "execute_result",
          "data": {
            "text/plain": [
              "torch.Size([32, 3, 2])"
            ]
          },
          "metadata": {},
          "execution_count": 110
        }
      ]
    },
    {
      "cell_type": "code",
      "source": [
        "W1 = torch.randn((6,100))\n",
        "b1 = torch.randn(100)"
      ],
      "metadata": {
        "id": "mJECt8GRcFbG"
      },
      "execution_count": null,
      "outputs": []
    },
    {
      "cell_type": "code",
      "source": [
        "emb @ W1 + b1             # emb is [32,3,2] and W1 is [6,100] cannot be multiplied"
      ],
      "metadata": {
        "colab": {
          "base_uri": "https://localhost:8080/",
          "height": 164
        },
        "id": "neBB7OuYcFYO",
        "outputId": "0bc1b3fd-65a5-4e02-f64a-7333480e9916"
      },
      "execution_count": null,
      "outputs": [
        {
          "output_type": "error",
          "ename": "RuntimeError",
          "evalue": "ignored",
          "traceback": [
            "\u001b[0;31m---------------------------------------------------------------------------\u001b[0m",
            "\u001b[0;31mRuntimeError\u001b[0m                              Traceback (most recent call last)",
            "\u001b[0;32m<ipython-input-112-60a5f7c4fd9b>\u001b[0m in \u001b[0;36m<module>\u001b[0;34m\u001b[0m\n\u001b[0;32m----> 1\u001b[0;31m \u001b[0memb\u001b[0m \u001b[0;34m@\u001b[0m \u001b[0mW1\u001b[0m \u001b[0;34m+\u001b[0m \u001b[0mb1\u001b[0m             \u001b[0;31m# emb is [32,3,2] and W1 is [6,100] cannot be multiplied\u001b[0m\u001b[0;34m\u001b[0m\u001b[0;34m\u001b[0m\u001b[0m\n\u001b[0m",
            "\u001b[0;31mRuntimeError\u001b[0m: mat1 and mat2 shapes cannot be multiplied (96x2 and 6x100)"
          ]
        }
      ]
    },
    {
      "cell_type": "code",
      "source": [
        "emb[:,0,:]"
      ],
      "metadata": {
        "colab": {
          "base_uri": "https://localhost:8080/"
        },
        "id": "EENMiWpIcFVK",
        "outputId": "727316dd-49bd-41a6-f16d-1b94ee943db2"
      },
      "execution_count": null,
      "outputs": [
        {
          "output_type": "execute_result",
          "data": {
            "text/plain": [
              "tensor([[-0.5300,  0.9214],\n",
              "        [-0.5300,  0.9214],\n",
              "        [-0.5300,  0.9214],\n",
              "        [-0.1326, -1.6317],\n",
              "        [-0.4487,  1.4295],\n",
              "        [-0.5300,  0.9214],\n",
              "        [-0.5300,  0.9214],\n",
              "        [-0.5300,  0.9214],\n",
              "        [ 0.3253,  0.0485],\n",
              "        [ 0.3560,  0.3165],\n",
              "        [ 0.7720,  1.9472],\n",
              "        [-0.2361, -0.1660],\n",
              "        [-0.5300,  0.9214],\n",
              "        [-0.5300,  0.9214],\n",
              "        [-0.5300,  0.9214],\n",
              "        [-0.0322, -0.3420],\n",
              "        [-0.5300,  0.9214],\n",
              "        [-0.5300,  0.9214],\n",
              "        [-0.5300,  0.9214],\n",
              "        [ 0.7720,  1.9472],\n",
              "        [ 0.2868, -0.1935],\n",
              "        [-0.0322, -0.3420],\n",
              "        [ 0.6079, -1.7622],\n",
              "        [-0.1326, -1.6317],\n",
              "        [ 0.3560,  0.3165],\n",
              "        [-0.5300,  0.9214],\n",
              "        [-0.5300,  0.9214],\n",
              "        [-0.5300,  0.9214],\n",
              "        [ 0.2868, -0.1935],\n",
              "        [ 0.3253,  0.0485],\n",
              "        [-0.5483, -1.0262],\n",
              "        [ 0.4216,  0.3385]])"
            ]
          },
          "metadata": {},
          "execution_count": 113
        }
      ]
    },
    {
      "cell_type": "code",
      "source": [
        "torch.cat([emb[:,0,:], emb[:,1,:],emb[:,0,:]], 1)"
      ],
      "metadata": {
        "colab": {
          "base_uri": "https://localhost:8080/"
        },
        "id": "YwEyrERLlXxI",
        "outputId": "002697a0-ac5f-4822-fea4-b8b8f7c86872"
      },
      "execution_count": null,
      "outputs": [
        {
          "output_type": "execute_result",
          "data": {
            "text/plain": [
              "tensor([[-0.5300,  0.9214, -0.5300,  0.9214, -0.5300,  0.9214],\n",
              "        [-0.5300,  0.9214, -0.5300,  0.9214, -0.5300,  0.9214],\n",
              "        [-0.5300,  0.9214, -0.1326, -1.6317, -0.5300,  0.9214],\n",
              "        [-0.1326, -1.6317, -0.4487,  1.4295, -0.1326, -1.6317],\n",
              "        [-0.4487,  1.4295, -0.4487,  1.4295, -0.4487,  1.4295],\n",
              "        [-0.5300,  0.9214, -0.5300,  0.9214, -0.5300,  0.9214],\n",
              "        [-0.5300,  0.9214, -0.5300,  0.9214, -0.5300,  0.9214],\n",
              "        [-0.5300,  0.9214,  0.3253,  0.0485, -0.5300,  0.9214],\n",
              "        [ 0.3253,  0.0485,  0.3560,  0.3165,  0.3253,  0.0485],\n",
              "        [ 0.3560,  0.3165,  0.7720,  1.9472,  0.3560,  0.3165],\n",
              "        [ 0.7720,  1.9472, -0.2361, -0.1660,  0.7720,  1.9472],\n",
              "        [-0.2361, -0.1660,  0.7720,  1.9472, -0.2361, -0.1660],\n",
              "        [-0.5300,  0.9214, -0.5300,  0.9214, -0.5300,  0.9214],\n",
              "        [-0.5300,  0.9214, -0.5300,  0.9214, -0.5300,  0.9214],\n",
              "        [-0.5300,  0.9214, -0.0322, -0.3420, -0.5300,  0.9214],\n",
              "        [-0.0322, -0.3420, -0.2361, -0.1660, -0.0322, -0.3420],\n",
              "        [-0.5300,  0.9214, -0.5300,  0.9214, -0.5300,  0.9214],\n",
              "        [-0.5300,  0.9214, -0.5300,  0.9214, -0.5300,  0.9214],\n",
              "        [-0.5300,  0.9214,  0.7720,  1.9472, -0.5300,  0.9214],\n",
              "        [ 0.7720,  1.9472,  0.2868, -0.1935,  0.7720,  1.9472],\n",
              "        [ 0.2868, -0.1935, -0.0322, -0.3420,  0.2868, -0.1935],\n",
              "        [-0.0322, -0.3420,  0.6079, -1.7622, -0.0322, -0.3420],\n",
              "        [ 0.6079, -1.7622, -0.1326, -1.6317,  0.6079, -1.7622],\n",
              "        [-0.1326, -1.6317,  0.3560,  0.3165, -0.1326, -1.6317],\n",
              "        [ 0.3560,  0.3165,  0.3560,  0.3165,  0.3560,  0.3165],\n",
              "        [-0.5300,  0.9214, -0.5300,  0.9214, -0.5300,  0.9214],\n",
              "        [-0.5300,  0.9214, -0.5300,  0.9214, -0.5300,  0.9214],\n",
              "        [-0.5300,  0.9214,  0.2868, -0.1935, -0.5300,  0.9214],\n",
              "        [ 0.2868, -0.1935,  0.3253,  0.0485,  0.2868, -0.1935],\n",
              "        [ 0.3253,  0.0485, -0.5483, -1.0262,  0.3253,  0.0485],\n",
              "        [-0.5483, -1.0262,  0.4216,  0.3385, -0.5483, -1.0262],\n",
              "        [ 0.4216,  0.3385,  0.7720,  1.9472,  0.4216,  0.3385]])"
            ]
          },
          "metadata": {},
          "execution_count": 114
        }
      ]
    },
    {
      "cell_type": "code",
      "source": [
        "torch.cat([emb[:,0,:], emb[:,1,:],emb[:,0,:]], 1).shape"
      ],
      "metadata": {
        "colab": {
          "base_uri": "https://localhost:8080/"
        },
        "id": "Ymmw6_99cFSf",
        "outputId": "2b455428-4a90-488b-b718-1d0df4db0f2e"
      },
      "execution_count": null,
      "outputs": [
        {
          "output_type": "execute_result",
          "data": {
            "text/plain": [
              "torch.Size([32, 6])"
            ]
          },
          "metadata": {},
          "execution_count": 115
        }
      ]
    },
    {
      "cell_type": "code",
      "source": [
        "torch.cat(torch.unbind(emb, 1), 1).shape"
      ],
      "metadata": {
        "colab": {
          "base_uri": "https://localhost:8080/"
        },
        "id": "Ge13dWITcFP_",
        "outputId": "8b4f619c-db14-4d79-f4cd-bb6657968164"
      },
      "execution_count": null,
      "outputs": [
        {
          "output_type": "execute_result",
          "data": {
            "text/plain": [
              "torch.Size([32, 6])"
            ]
          },
          "metadata": {},
          "execution_count": 116
        }
      ]
    },
    {
      "cell_type": "code",
      "source": [
        "a = torch.arange(18)\n",
        "a"
      ],
      "metadata": {
        "colab": {
          "base_uri": "https://localhost:8080/"
        },
        "id": "XViTAcTBcD8a",
        "outputId": "ad590cc2-ee01-4303-ba77-451eb1721537"
      },
      "execution_count": null,
      "outputs": [
        {
          "output_type": "execute_result",
          "data": {
            "text/plain": [
              "tensor([ 0,  1,  2,  3,  4,  5,  6,  7,  8,  9, 10, 11, 12, 13, 14, 15, 16, 17])"
            ]
          },
          "metadata": {},
          "execution_count": 117
        }
      ]
    },
    {
      "cell_type": "code",
      "source": [
        "a.shape"
      ],
      "metadata": {
        "colab": {
          "base_uri": "https://localhost:8080/"
        },
        "id": "8UI8-zAfcD5L",
        "outputId": "5320065b-afed-42cf-db67-2600039ee1e1"
      },
      "execution_count": null,
      "outputs": [
        {
          "output_type": "execute_result",
          "data": {
            "text/plain": [
              "torch.Size([18])"
            ]
          },
          "metadata": {},
          "execution_count": 118
        }
      ]
    },
    {
      "cell_type": "code",
      "source": [
        "a.view(3,3,2)           # view in any dimention as long as product is 18"
      ],
      "metadata": {
        "colab": {
          "base_uri": "https://localhost:8080/"
        },
        "id": "2UMm_F9IcD13",
        "outputId": "c0c04c8c-b87d-4856-f3fc-d516d7648fc7"
      },
      "execution_count": null,
      "outputs": [
        {
          "output_type": "execute_result",
          "data": {
            "text/plain": [
              "tensor([[[ 0,  1],\n",
              "         [ 2,  3],\n",
              "         [ 4,  5]],\n",
              "\n",
              "        [[ 6,  7],\n",
              "         [ 8,  9],\n",
              "         [10, 11]],\n",
              "\n",
              "        [[12, 13],\n",
              "         [14, 15],\n",
              "         [16, 17]]])"
            ]
          },
          "metadata": {},
          "execution_count": 119
        }
      ]
    },
    {
      "cell_type": "markdown",
      "source": [
        "always represented in memory in 1 dimension vector but when view is called we are manupilating some attributes og that tensor that dictate how this 1-d seq is interpreted to be in an n-dim tensor.\n",
        "\n",
        "**No memory is being changed, copied, moved or created while using *.view***"
      ],
      "metadata": {
        "id": "vyLfLGPqkPZI"
      }
    },
    {
      "cell_type": "code",
      "source": [
        "a.storage()                                 "
      ],
      "metadata": {
        "colab": {
          "base_uri": "https://localhost:8080/"
        },
        "id": "EXJFPeSvcDyu",
        "outputId": "02aaa538-061e-41f6-bc76-73a7f44fc904"
      },
      "execution_count": null,
      "outputs": [
        {
          "output_type": "execute_result",
          "data": {
            "text/plain": [
              " 0\n",
              " 1\n",
              " 2\n",
              " 3\n",
              " 4\n",
              " 5\n",
              " 6\n",
              " 7\n",
              " 8\n",
              " 9\n",
              " 10\n",
              " 11\n",
              " 12\n",
              " 13\n",
              " 14\n",
              " 15\n",
              " 16\n",
              " 17\n",
              "[torch.storage._TypedStorage(dtype=torch.int64, device=cpu) of size 18]"
            ]
          },
          "metadata": {},
          "execution_count": 120
        }
      ]
    },
    {
      "cell_type": "code",
      "source": [
        "emb.shape"
      ],
      "metadata": {
        "colab": {
          "base_uri": "https://localhost:8080/"
        },
        "id": "jfgZd17LcDvi",
        "outputId": "83708a66-7708-43dc-ef71-e59440920c58"
      },
      "execution_count": null,
      "outputs": [
        {
          "output_type": "execute_result",
          "data": {
            "text/plain": [
              "torch.Size([32, 3, 2])"
            ]
          },
          "metadata": {},
          "execution_count": 121
        }
      ]
    },
    {
      "cell_type": "code",
      "source": [
        "emb.view(32, 6)"
      ],
      "metadata": {
        "colab": {
          "base_uri": "https://localhost:8080/"
        },
        "id": "Ill5nqYHcDsq",
        "outputId": "4bb8e396-8f6a-4c2d-893f-6979149ebcde"
      },
      "execution_count": null,
      "outputs": [
        {
          "output_type": "execute_result",
          "data": {
            "text/plain": [
              "tensor([[-0.5300,  0.9214, -0.5300,  0.9214, -0.5300,  0.9214],\n",
              "        [-0.5300,  0.9214, -0.5300,  0.9214, -0.1326, -1.6317],\n",
              "        [-0.5300,  0.9214, -0.1326, -1.6317, -0.4487,  1.4295],\n",
              "        [-0.1326, -1.6317, -0.4487,  1.4295, -0.4487,  1.4295],\n",
              "        [-0.4487,  1.4295, -0.4487,  1.4295, -0.0322, -0.3420],\n",
              "        [-0.5300,  0.9214, -0.5300,  0.9214, -0.5300,  0.9214],\n",
              "        [-0.5300,  0.9214, -0.5300,  0.9214,  0.3253,  0.0485],\n",
              "        [-0.5300,  0.9214,  0.3253,  0.0485,  0.3560,  0.3165],\n",
              "        [ 0.3253,  0.0485,  0.3560,  0.3165,  0.7720,  1.9472],\n",
              "        [ 0.3560,  0.3165,  0.7720,  1.9472, -0.2361, -0.1660],\n",
              "        [ 0.7720,  1.9472, -0.2361, -0.1660,  0.7720,  1.9472],\n",
              "        [-0.2361, -0.1660,  0.7720,  1.9472, -0.0322, -0.3420],\n",
              "        [-0.5300,  0.9214, -0.5300,  0.9214, -0.5300,  0.9214],\n",
              "        [-0.5300,  0.9214, -0.5300,  0.9214, -0.0322, -0.3420],\n",
              "        [-0.5300,  0.9214, -0.0322, -0.3420, -0.2361, -0.1660],\n",
              "        [-0.0322, -0.3420, -0.2361, -0.1660, -0.0322, -0.3420],\n",
              "        [-0.5300,  0.9214, -0.5300,  0.9214, -0.5300,  0.9214],\n",
              "        [-0.5300,  0.9214, -0.5300,  0.9214,  0.7720,  1.9472],\n",
              "        [-0.5300,  0.9214,  0.7720,  1.9472,  0.2868, -0.1935],\n",
              "        [ 0.7720,  1.9472,  0.2868, -0.1935, -0.0322, -0.3420],\n",
              "        [ 0.2868, -0.1935, -0.0322, -0.3420,  0.6079, -1.7622],\n",
              "        [-0.0322, -0.3420,  0.6079, -1.7622, -0.1326, -1.6317],\n",
              "        [ 0.6079, -1.7622, -0.1326, -1.6317,  0.3560,  0.3165],\n",
              "        [-0.1326, -1.6317,  0.3560,  0.3165,  0.3560,  0.3165],\n",
              "        [ 0.3560,  0.3165,  0.3560,  0.3165, -0.0322, -0.3420],\n",
              "        [-0.5300,  0.9214, -0.5300,  0.9214, -0.5300,  0.9214],\n",
              "        [-0.5300,  0.9214, -0.5300,  0.9214,  0.2868, -0.1935],\n",
              "        [-0.5300,  0.9214,  0.2868, -0.1935,  0.3253,  0.0485],\n",
              "        [ 0.2868, -0.1935,  0.3253,  0.0485, -0.5483, -1.0262],\n",
              "        [ 0.3253,  0.0485, -0.5483, -1.0262,  0.4216,  0.3385],\n",
              "        [-0.5483, -1.0262,  0.4216,  0.3385,  0.7720,  1.9472],\n",
              "        [ 0.4216,  0.3385,  0.7720,  1.9472, -0.0322, -0.3420]])"
            ]
          },
          "metadata": {},
          "execution_count": 122
        }
      ]
    },
    {
      "cell_type": "code",
      "source": [
        "emb.view(32, 6) == torch.cat([emb[:,0,:], emb[:,1,:],emb[:,0,:]], 1)   # element wise equal"
      ],
      "metadata": {
        "colab": {
          "base_uri": "https://localhost:8080/"
        },
        "id": "C9B6XBmWcDqH",
        "outputId": "e2f9e9cb-fb58-4525-b32c-c2ef7c198eb7"
      },
      "execution_count": null,
      "outputs": [
        {
          "output_type": "execute_result",
          "data": {
            "text/plain": [
              "tensor([[ True,  True,  True,  True,  True,  True],\n",
              "        [ True,  True,  True,  True, False, False],\n",
              "        [ True,  True,  True,  True, False, False],\n",
              "        [ True,  True,  True,  True, False, False],\n",
              "        [ True,  True,  True,  True, False, False],\n",
              "        [ True,  True,  True,  True,  True,  True],\n",
              "        [ True,  True,  True,  True, False, False],\n",
              "        [ True,  True,  True,  True, False, False],\n",
              "        [ True,  True,  True,  True, False, False],\n",
              "        [ True,  True,  True,  True, False, False],\n",
              "        [ True,  True,  True,  True,  True,  True],\n",
              "        [ True,  True,  True,  True, False, False],\n",
              "        [ True,  True,  True,  True,  True,  True],\n",
              "        [ True,  True,  True,  True, False, False],\n",
              "        [ True,  True,  True,  True, False, False],\n",
              "        [ True,  True,  True,  True,  True,  True],\n",
              "        [ True,  True,  True,  True,  True,  True],\n",
              "        [ True,  True,  True,  True, False, False],\n",
              "        [ True,  True,  True,  True, False, False],\n",
              "        [ True,  True,  True,  True, False, False],\n",
              "        [ True,  True,  True,  True, False, False],\n",
              "        [ True,  True,  True,  True, False, False],\n",
              "        [ True,  True,  True,  True, False, False],\n",
              "        [ True,  True,  True,  True, False, False],\n",
              "        [ True,  True,  True,  True, False, False],\n",
              "        [ True,  True,  True,  True,  True,  True],\n",
              "        [ True,  True,  True,  True, False, False],\n",
              "        [ True,  True,  True,  True, False, False],\n",
              "        [ True,  True,  True,  True, False, False],\n",
              "        [ True,  True,  True,  True, False, False],\n",
              "        [ True,  True,  True,  True, False, False],\n",
              "        [ True,  True,  True,  True, False, False]])"
            ]
          },
          "metadata": {},
          "execution_count": 123
        }
      ]
    },
    {
      "cell_type": "code",
      "source": [
        "h = torch.tanh(emb.view(emb.shape[0],6) @ W1  + b1)                      # for 5 example .view(32,6) is equal to emb,shape[0]\n",
        "# h = emb.view(-1,6) @ W1  + b1     "
      ],
      "metadata": {
        "id": "3YzoFjYRle1r"
      },
      "execution_count": null,
      "outputs": []
    },
    {
      "cell_type": "code",
      "source": [
        "h"
      ],
      "metadata": {
        "colab": {
          "base_uri": "https://localhost:8080/"
        },
        "id": "CRokTtSrqW9B",
        "outputId": "983ed7f8-d10c-40eb-daf4-12a24a91a0aa"
      },
      "execution_count": null,
      "outputs": [
        {
          "output_type": "execute_result",
          "data": {
            "text/plain": [
              "tensor([[ 0.9949, -0.9078,  0.9243,  ...,  0.9916,  0.7854, -0.9214],\n",
              "        [ 0.9768, -0.1668,  0.9391,  ...,  0.9174,  0.8820,  0.3725],\n",
              "        [ 0.8532, -0.9551,  0.9998,  ..., -0.9334,  0.6479, -0.9786],\n",
              "        ...,\n",
              "        [ 0.5579, -0.5737,  0.9980,  ..., -0.8135,  0.9713,  0.9155],\n",
              "        [-0.1843,  0.0541, -0.9230,  ..., -0.9158,  0.9972,  0.8321],\n",
              "        [ 0.9951, -0.0557, -0.9513,  ...,  1.0000,  0.9952, -0.9972]])"
            ]
          },
          "metadata": {},
          "execution_count": 125
        }
      ]
    },
    {
      "cell_type": "code",
      "source": [
        "h.shape            # 100 dim activation for every one of our example"
      ],
      "metadata": {
        "colab": {
          "base_uri": "https://localhost:8080/"
        },
        "id": "fG39-34ylp_N",
        "outputId": "d2233edc-98d7-4b22-97e7-1de2af5db27a"
      },
      "execution_count": null,
      "outputs": [
        {
          "output_type": "execute_result",
          "data": {
            "text/plain": [
              "torch.Size([32, 100])"
            ]
          },
          "metadata": {},
          "execution_count": 126
        }
      ]
    },
    {
      "cell_type": "code",
      "source": [
        "b1.shape"
      ],
      "metadata": {
        "colab": {
          "base_uri": "https://localhost:8080/"
        },
        "id": "WXrkw7kLqtkU",
        "outputId": "220e636b-3121-452a-e3a4-2144f3d05f5f"
      },
      "execution_count": null,
      "outputs": [
        {
          "output_type": "execute_result",
          "data": {
            "text/plain": [
              "torch.Size([100])"
            ]
          },
          "metadata": {},
          "execution_count": 127
        }
      ]
    },
    {
      "cell_type": "code",
      "source": [
        "# 32, 100               32, 100              32, 100\n",
        "#     100     --->       1, 100     --->     32, 100"
      ],
      "metadata": {
        "id": "X3G0FC15qSiQ"
      },
      "execution_count": null,
      "outputs": []
    },
    {
      "cell_type": "code",
      "source": [
        "W2 = torch.randn((100, 27))\n",
        "b2 = torch.randn(27)"
      ],
      "metadata": {
        "id": "7Fy78DKkqTLZ"
      },
      "execution_count": null,
      "outputs": []
    },
    {
      "cell_type": "code",
      "source": [
        "logits = h @ W2 + b2"
      ],
      "metadata": {
        "id": "LV8_l6Gtlx7p"
      },
      "execution_count": null,
      "outputs": []
    },
    {
      "cell_type": "code",
      "source": [
        "logits.shape"
      ],
      "metadata": {
        "colab": {
          "base_uri": "https://localhost:8080/"
        },
        "id": "a8pltF88rQDj",
        "outputId": "5d20e642-428c-4cfa-e521-aeebf3fefa18"
      },
      "execution_count": null,
      "outputs": [
        {
          "output_type": "execute_result",
          "data": {
            "text/plain": [
              "torch.Size([32, 27])"
            ]
          },
          "metadata": {},
          "execution_count": 131
        }
      ]
    },
    {
      "cell_type": "code",
      "source": [
        "logits"
      ],
      "metadata": {
        "colab": {
          "base_uri": "https://localhost:8080/"
        },
        "id": "VpHC4uTRrSuu",
        "outputId": "0aa96721-cc46-4d76-a41b-94d88bcde7e6"
      },
      "execution_count": null,
      "outputs": [
        {
          "output_type": "execute_result",
          "data": {
            "text/plain": [
              "tensor([[-4.2021e+00, -1.7967e+01, -6.4227e+00,  2.5521e+00,  2.5003e+00,\n",
              "         -6.2784e+00,  9.8299e+00,  3.3410e+00,  4.9490e-01,  1.5987e+01,\n",
              "          4.0086e+00,  5.3250e+00, -1.6099e+01,  4.2966e+00, -4.7679e+00,\n",
              "          9.1273e-01,  6.7078e+00,  1.5156e+00,  1.6112e+00,  6.5366e+00,\n",
              "         -1.3141e+01, -6.4404e+00, -5.9230e+00, -2.8120e+00,  5.1827e+00,\n",
              "          4.6969e+00, -6.3267e+00],\n",
              "        [-9.3000e-01, -1.1816e+01, -3.6583e+00, -1.9101e+00,  1.4855e+01,\n",
              "         -7.5954e+00, -3.2717e+00, -7.5276e-01,  1.3877e+00,  1.7189e+00,\n",
              "          5.2699e+00, -4.9576e-01, -1.9645e+01, -3.5914e-02,  8.6987e+00,\n",
              "         -4.8383e+00,  6.8015e+00,  1.5518e+00, -1.8959e+00, -2.3064e+00,\n",
              "         -8.6104e+00, -8.2389e+00,  4.4633e+00,  9.6227e+00, -5.7255e+00,\n",
              "          1.1553e+00, -8.5722e+00],\n",
              "        [ 5.8845e+00, -2.3694e+00, -1.0048e+00,  3.5083e+00,  2.6669e-01,\n",
              "         -1.5531e+01, -4.6088e+00,  7.1725e+00, -1.3443e+01, -2.1065e+00,\n",
              "         -1.7998e+00,  8.0605e+00,  1.9989e+00, -1.9995e+01, -1.2986e+01,\n",
              "          3.8010e+00,  3.6626e+00,  1.0991e+01, -1.8780e+01, -1.4625e+01,\n",
              "         -5.2474e-01,  1.3715e+01, -2.8770e+00,  3.0419e+00,  7.5607e+00,\n",
              "          8.9968e+00, -1.0640e+01],\n",
              "        [-1.1409e+01,  8.5142e+00, -1.4348e+00, -3.9544e+00,  4.1628e+00,\n",
              "          2.5051e+00,  1.9507e+01,  1.5827e+01, -2.2419e-01,  5.6596e+00,\n",
              "          1.0068e+01,  6.4405e+00, -9.1202e+00,  1.6976e+01, -1.1075e+01,\n",
              "          6.9407e+00, -5.6201e+00,  2.9063e+00,  4.4390e+00,  1.4308e+01,\n",
              "          1.9387e+00, -1.4784e+01, -1.2674e+01, -7.6636e+00, -3.9743e-01,\n",
              "         -1.8024e+01,  8.6338e+00],\n",
              "        [-5.4542e+00, -1.9161e+01, -4.1540e-01, -9.0570e-01,  1.0489e+01,\n",
              "         -6.6640e+00,  2.7922e+00, -1.8838e-01,  2.8572e+00,  2.1104e+00,\n",
              "          3.3833e+00,  2.5978e+00, -1.9432e+01, -4.1238e-01,  6.8480e+00,\n",
              "         -1.1462e+00,  4.5939e+00,  9.7090e-01,  2.0564e+00,  3.5627e+00,\n",
              "         -9.3631e+00, -5.9885e+00,  6.3530e-01,  8.6014e+00, -5.6207e+00,\n",
              "          4.8651e+00, -4.7426e+00],\n",
              "        [-4.2021e+00, -1.7967e+01, -6.4227e+00,  2.5521e+00,  2.5003e+00,\n",
              "         -6.2784e+00,  9.8299e+00,  3.3410e+00,  4.9490e-01,  1.5987e+01,\n",
              "          4.0086e+00,  5.3250e+00, -1.6099e+01,  4.2966e+00, -4.7679e+00,\n",
              "          9.1273e-01,  6.7078e+00,  1.5156e+00,  1.6112e+00,  6.5366e+00,\n",
              "         -1.3141e+01, -6.4404e+00, -5.9230e+00, -2.8120e+00,  5.1827e+00,\n",
              "          4.6969e+00, -6.3267e+00],\n",
              "        [-5.4454e+00, -2.2311e+01,  3.9681e+00, -5.4059e+00,  8.5616e+00,\n",
              "         -6.0418e+00,  2.4222e+00,  1.6461e+00, -1.2994e+00,  4.7380e+00,\n",
              "          3.4787e+00,  1.7525e+00, -1.8127e+01,  5.1080e+00,  7.3189e-01,\n",
              "         -5.5372e-01,  4.5135e+00, -1.4659e+00,  3.9839e+00,  6.5954e+00,\n",
              "         -4.0605e+00, -2.6259e+00, -2.6025e+00,  7.7724e+00, -3.2077e+00,\n",
              "          2.2366e+00, -9.5867e+00],\n",
              "        [-5.9261e+00, -1.4807e+01,  3.5239e+00, -3.9587e+00,  1.0220e+01,\n",
              "         -7.8981e+00,  3.2983e+00,  3.6649e+00, -8.7976e+00,  3.4046e+00,\n",
              "          4.8180e+00,  5.3648e+00, -2.0162e+01,  1.1694e+00, -1.7892e+00,\n",
              "          1.1211e+00,  1.8330e+00, -3.2355e+00, -6.0886e+00,  3.5416e-01,\n",
              "         -2.7625e+00,  5.7817e+00, -7.4828e+00,  4.2665e-01,  3.9824e+00,\n",
              "          6.9186e+00, -3.2314e+00],\n",
              "        [-7.7658e+00, -5.9731e+00,  1.0560e+01,  8.5230e+00,  1.9705e+00,\n",
              "         -6.2864e+00,  8.5328e+00,  5.0587e+00, -3.5326e+00, -1.6775e+00,\n",
              "          3.4309e+00,  9.9927e-01, -5.6835e+00,  1.1423e+01, -1.7496e+01,\n",
              "          1.8650e+01,  1.3636e+00, -9.9374e-01, -3.1325e-01,  2.1674e+00,\n",
              "          5.2375e+00,  1.2979e+00, -1.3502e+01, -5.6578e+00,  3.2010e+00,\n",
              "          1.7539e+00, -3.1228e+00],\n",
              "        [-9.5334e+00, -5.1169e+00,  2.2087e+00,  3.3592e+00,  8.8284e+00,\n",
              "          1.7504e+00, -6.5737e-01, -4.5993e+00,  5.3179e+00,  3.7935e+00,\n",
              "          4.7338e+00,  4.4127e-01, -1.5631e+01,  1.4489e+01,  8.0022e+00,\n",
              "          1.2998e-01, -4.9495e+00, -6.1317e+00, -6.5601e+00,  4.6170e+00,\n",
              "         -7.9194e+00, -1.5020e+01, -5.1646e+00, -7.1771e+00, -3.3217e+00,\n",
              "         -5.4648e+00,  1.0010e+01],\n",
              "        [-3.4621e+00, -1.7398e+01,  1.1491e+01,  6.1430e+00, -4.3150e+00,\n",
              "         -1.1937e+01,  4.8466e+00,  2.6268e+00, -6.5867e+00, -8.5129e-02,\n",
              "         -1.7622e+00,  3.4511e+00, -3.4363e+00,  2.4326e-01, -1.0479e+01,\n",
              "          1.4752e+01,  4.1203e+00,  2.0439e+00, -4.0612e+00, -3.9348e+00,\n",
              "         -2.7725e+00,  6.8858e+00, -3.1657e+00, -5.8204e-01,  3.3675e+00,\n",
              "          1.4213e+01, -1.1449e+01],\n",
              "        [-1.2700e+01, -3.1656e+00,  4.1954e-01, -9.8484e-01,  1.0911e+01,\n",
              "          2.1852e+00,  5.4064e-01, -1.7681e+00,  5.1084e+00,  2.3084e+00,\n",
              "          8.4022e+00, -3.2652e-02, -1.8737e+01,  1.9709e+01,  1.0263e+01,\n",
              "         -2.6140e+00, -8.6119e+00, -6.6418e+00, -1.2748e+00,  9.4003e+00,\n",
              "         -2.3515e+00, -1.4811e+01, -7.8385e+00, -4.4954e+00, -6.8057e+00,\n",
              "         -1.0445e+01,  8.4056e+00],\n",
              "        [-4.2021e+00, -1.7967e+01, -6.4227e+00,  2.5521e+00,  2.5003e+00,\n",
              "         -6.2784e+00,  9.8299e+00,  3.3410e+00,  4.9490e-01,  1.5987e+01,\n",
              "          4.0086e+00,  5.3250e+00, -1.6099e+01,  4.2966e+00, -4.7679e+00,\n",
              "          9.1273e-01,  6.7078e+00,  1.5156e+00,  1.6112e+00,  6.5366e+00,\n",
              "         -1.3141e+01, -6.4404e+00, -5.9230e+00, -2.8120e+00,  5.1827e+00,\n",
              "          4.6969e+00, -6.3267e+00],\n",
              "        [-4.0377e+00, -1.8694e+01,  4.7460e-01, -2.0511e+00,  1.0746e+01,\n",
              "         -8.1804e+00,  2.8007e+00,  1.8761e+00,  1.2848e+00,  3.5281e+00,\n",
              "          3.7011e+00,  1.1698e+00, -1.8246e+01, -8.8387e-03,  1.9653e+00,\n",
              "         -2.4789e+00,  5.9790e+00,  1.5751e+00, -4.4693e-03,  4.2339e+00,\n",
              "         -6.5513e+00, -4.6444e+00,  1.2625e-01,  8.2959e+00, -3.5114e+00,\n",
              "          4.2669e+00, -7.9614e+00],\n",
              "        [ 1.3563e+00, -9.3319e+00, -4.9341e+00, -3.5168e+00,  6.5644e+00,\n",
              "         -7.3260e+00, -4.8997e+00,  3.1018e+00, -8.9423e+00,  7.8935e+00,\n",
              "          2.0477e+00,  5.9571e+00, -1.5697e+01, -1.0885e+01, -1.2633e+00,\n",
              "         -6.0108e+00,  3.0575e+00,  4.6334e+00, -8.9031e+00, -1.1517e+01,\n",
              "         -6.5412e+00,  4.3151e+00, -2.6084e+00,  7.1463e+00,  4.8997e+00,\n",
              "          1.0889e+01, -1.1711e+01],\n",
              "        [-5.6426e+00,  2.5114e+00, -1.0599e+00, -5.5126e+00,  1.2108e+01,\n",
              "         -7.4879e+00,  8.2532e-01,  3.1709e+00, -2.9931e+00,  2.1924e+00,\n",
              "          3.5005e+00,  1.9080e+00,  2.2991e-01, -8.5832e+00, -7.5880e+00,\n",
              "          1.3810e+00,  2.2951e+00, -1.8901e+00, -1.0069e+01,  6.9918e+00,\n",
              "         -1.3930e+00, -2.4792e+00, -1.4479e+00,  3.7350e-02, -6.7242e+00,\n",
              "         -4.0689e+00, -1.2458e+01],\n",
              "        [-4.2021e+00, -1.7967e+01, -6.4227e+00,  2.5521e+00,  2.5003e+00,\n",
              "         -6.2784e+00,  9.8299e+00,  3.3410e+00,  4.9490e-01,  1.5987e+01,\n",
              "          4.0086e+00,  5.3250e+00, -1.6099e+01,  4.2966e+00, -4.7679e+00,\n",
              "          9.1273e-01,  6.7078e+00,  1.5156e+00,  1.6112e+00,  6.5366e+00,\n",
              "         -1.3141e+01, -6.4404e+00, -5.9230e+00, -2.8120e+00,  5.1827e+00,\n",
              "          4.6969e+00, -6.3267e+00],\n",
              "        [-4.2533e+00, -1.9686e+01,  3.0539e+00, -1.8386e+00,  4.4440e+00,\n",
              "         -7.9424e+00,  1.1492e+01,  8.1657e+00, -3.5548e+00,  7.1626e+00,\n",
              "          3.3607e+00,  2.5429e+00, -1.6301e+01,  1.2632e+01, -1.3604e+01,\n",
              "          1.1817e+01,  1.8271e+00, -2.9197e+00,  2.0907e+00,  6.1314e+00,\n",
              "          7.5047e-01,  1.7567e+00, -7.9205e+00, -4.4951e+00, -6.0215e-01,\n",
              "          4.3683e+00, -6.2607e+00],\n",
              "        [-7.7441e+00, -9.0014e+00,  4.0489e+00, -3.8119e+00,  1.1488e+01,\n",
              "         -1.2544e+00,  2.6115e+00, -8.4629e+00,  4.9072e+00,  1.4389e-01,\n",
              "          5.2726e+00, -9.5260e-01, -2.5263e+01,  6.9687e+00,  1.5218e+01,\n",
              "         -5.8065e+00,  2.3847e+00, -5.6118e+00, -3.4160e-01,  4.7536e+00,\n",
              "         -2.8441e+00, -9.4880e+00, -9.7779e+00,  1.2863e+00, -2.3943e+00,\n",
              "         -1.0371e+00,  8.1499e+00],\n",
              "        [-6.0535e-01, -1.6738e+01,  5.8526e+00,  2.3794e+00,  5.5354e+00,\n",
              "         -8.4243e+00, -1.7148e+00,  4.7344e+00, -2.1262e+00, -8.2958e+00,\n",
              "         -8.5648e+00,  6.0879e+00, -1.0701e+01, -1.2607e+01,  3.6390e+00,\n",
              "         -4.1587e-01,  6.4167e+00, -7.5553e-01, -8.0013e+00, -9.4635e+00,\n",
              "         -1.0950e+01,  1.0604e+00,  3.2041e+00,  6.9796e+00,  9.1263e+00,\n",
              "          1.3393e+01, -1.5818e+01],\n",
              "        [-3.0838e+00, -1.5015e+00,  6.5019e+00, -8.0705e+00,  1.5235e+01,\n",
              "         -6.6323e+00, -1.1561e+01, -9.3896e+00,  4.4752e+00, -4.7682e+00,\n",
              "         -3.0811e+00, -2.3962e+00,  5.8102e+00, -8.4586e+00,  3.4030e+00,\n",
              "         -4.9099e+00,  1.5936e+00, -8.4451e+00, -4.7069e+00,  5.4153e+00,\n",
              "          2.6277e+00, -3.0138e+00,  3.7891e+00,  1.0700e+01, -9.0758e+00,\n",
              "         -6.6427e+00, -1.5945e+01],\n",
              "        [ 2.8365e+00,  7.0046e+00, -1.0325e+01,  2.5340e-01,  1.3797e+01,\n",
              "         -6.6963e+00, -1.6472e+01, -4.4985e+00,  2.6779e+00,  4.4704e+00,\n",
              "         -4.3414e+00,  2.6053e-01,  9.5889e+00, -2.3658e+01, -3.3215e+00,\n",
              "         -4.2806e+00,  8.0476e+00,  2.0289e+00, -2.0998e+01, -9.1155e+00,\n",
              "          3.0680e-02,  3.1096e+00,  2.7281e+00,  5.5066e+00, -2.5936e-01,\n",
              "          4.6770e+00, -1.6721e+01],\n",
              "        [-4.8272e+00,  1.1319e+01,  7.9972e+00,  2.4811e+00,  2.1945e+00,\n",
              "         -8.4434e+00,  3.8889e+00,  4.0670e+00, -4.4065e+00, -3.2903e+00,\n",
              "          1.4321e+00,  3.2697e+00,  1.9250e+01, -1.5829e+01, -1.6767e+01,\n",
              "          1.1674e+01,  1.3118e+00,  3.5094e+00, -4.9071e+00,  5.8070e+00,\n",
              "          7.8725e+00,  5.7949e+00, -4.5747e+00, -3.0803e+00,  5.2735e+00,\n",
              "         -5.8084e+00, -1.6798e+01],\n",
              "        [-1.2540e+01,  1.0256e+01,  4.9427e+00, -4.6149e+00,  9.3150e+00,\n",
              "         -5.6062e-01,  8.9447e+00,  7.6365e+00, -4.8463e+00, -2.5800e+00,\n",
              "          6.6431e+00,  3.8757e+00,  1.3545e+00,  7.1997e+00, -6.6372e+00,\n",
              "          7.7879e+00, -1.6127e+00, -3.2862e+00, -2.2557e+00,  2.0530e+01,\n",
              "          9.7858e+00, -8.2056e+00, -8.6117e+00, -5.5167e+00, -1.0650e+00,\n",
              "         -1.3911e+01,  1.4413e+00],\n",
              "        [-7.1245e+00, -3.8747e+00,  4.6999e+00, -1.2486e+00,  1.3282e+01,\n",
              "         -4.4635e+00, -2.6609e+00,  1.8140e+00,  1.5053e+00,  3.4205e+00,\n",
              "          5.6503e+00,  2.2301e+00, -8.3463e+00,  5.0541e+00,  1.7313e+00,\n",
              "          7.0977e+00,  1.1892e+00, -6.6487e+00, -9.4344e+00,  2.3982e+00,\n",
              "         -8.4514e+00, -7.7897e+00,  1.6352e+00, -2.5947e+00, -6.5298e-01,\n",
              "          9.8433e-01, -5.3242e+00],\n",
              "        [-4.2021e+00, -1.7967e+01, -6.4227e+00,  2.5521e+00,  2.5003e+00,\n",
              "         -6.2784e+00,  9.8299e+00,  3.3410e+00,  4.9490e-01,  1.5987e+01,\n",
              "          4.0086e+00,  5.3250e+00, -1.6099e+01,  4.2966e+00, -4.7679e+00,\n",
              "          9.1273e-01,  6.7078e+00,  1.5156e+00,  1.6112e+00,  6.5366e+00,\n",
              "         -1.3141e+01, -6.4404e+00, -5.9230e+00, -2.8120e+00,  5.1827e+00,\n",
              "          4.6969e+00, -6.3267e+00],\n",
              "        [-5.8038e+00, -2.1391e+01,  4.4812e+00, -4.9764e+00,  1.0171e+01,\n",
              "         -6.2539e+00,  2.1269e+00,  1.3816e+00, -1.3228e+00,  3.0820e+00,\n",
              "          3.5832e+00,  1.0417e+00, -1.8783e+01,  3.9600e+00,  1.2833e+00,\n",
              "         -1.4694e+00,  4.9524e+00, -1.1641e+00,  2.8295e+00,  5.6318e+00,\n",
              "         -3.2213e+00, -3.4838e+00, -8.0260e-01,  8.4400e+00, -4.5314e+00,\n",
              "          1.8179e+00, -9.7983e+00],\n",
              "        [-2.5784e+00, -1.4017e+01,  3.5192e+00, -5.7212e+00,  9.4011e+00,\n",
              "         -7.7575e+00, -2.2328e+00,  2.5798e+00, -1.1059e+01,  3.5452e+00,\n",
              "          3.9739e+00,  4.3098e+00, -1.9982e+01, -2.9514e+00, -2.4052e-01,\n",
              "         -2.2366e+00,  4.9121e-01, -5.7713e-01, -6.2114e+00, -3.1401e+00,\n",
              "         -1.5905e-01,  6.7604e+00, -6.0687e+00,  3.3738e+00,  4.6979e+00,\n",
              "          7.4667e+00, -7.0883e+00],\n",
              "        [-5.7827e+00,  3.0338e+00, -7.6270e+00,  1.8577e-01,  1.6668e+01,\n",
              "         -1.1086e+00, -4.7872e+00, -1.6083e+00,  6.4173e+00,  5.4754e+00,\n",
              "          5.5640e+00,  3.4468e+00,  2.6040e+00, -4.0339e+00,  2.0489e+00,\n",
              "          6.3808e-01,  2.4775e+00, -3.1731e+00, -1.7927e+01, -2.6775e-01,\n",
              "         -1.6426e+01, -7.3186e+00,  2.0640e+00,  2.3389e+00, -2.7127e-01,\n",
              "         -8.8418e-01, -6.8411e+00],\n",
              "        [ 7.4954e+00, -6.8326e+00,  1.0915e+01, -2.0293e+00, -9.9889e-01,\n",
              "         -1.2375e+01, -8.8343e+00,  5.0829e+00, -1.1879e+01, -4.5873e+00,\n",
              "         -4.6056e+00,  4.6528e+00,  4.1373e+00, -2.1295e+01, -1.7354e+01,\n",
              "          8.3814e+00,  3.0063e+00,  6.3034e+00, -1.4240e+01, -2.1865e+00,\n",
              "          5.6950e+00,  1.1338e+01,  1.6159e+00,  1.7138e+00,  2.4095e+00,\n",
              "          6.7853e+00, -2.0988e+01],\n",
              "        [-8.2123e+00,  3.8873e+00,  6.6410e+00, -5.5368e-01,  5.8527e+00,\n",
              "         -1.5771e+00,  1.3442e+01,  5.0459e+00, -1.8306e+00, -2.5443e+00,\n",
              "          3.1282e+00, -7.6256e-01, -6.3287e+00,  9.1426e+00, -1.7499e+01,\n",
              "          1.0050e+01,  4.9572e+00, -1.2650e+00, -2.7734e+00,  1.4007e+01,\n",
              "          1.4636e+01,  1.4938e+00, -1.6603e+01, -7.1224e+00, -1.3746e-01,\n",
              "         -7.1964e+00,  5.3971e+00],\n",
              "        [-9.8395e+00, -5.0543e+00,  4.2119e+00,  5.9031e-01,  7.8611e+00,\n",
              "          2.5731e+00, -9.1282e-01, -5.6973e+00,  7.3388e+00,  3.3604e-01,\n",
              "          4.4937e+00, -9.0575e-01, -1.4873e+01,  1.5569e+01,  1.0138e+01,\n",
              "         -2.0780e-01, -6.3251e+00, -6.2756e+00, -4.0868e+00,  4.4868e+00,\n",
              "         -8.5441e+00, -1.4259e+01, -5.2785e+00, -4.7950e+00, -5.7884e+00,\n",
              "         -5.9009e+00,  9.4959e+00]])"
            ]
          },
          "metadata": {},
          "execution_count": 132
        }
      ]
    },
    {
      "cell_type": "code",
      "source": [
        "counts = logits.exp()"
      ],
      "metadata": {
        "id": "D8Rn-AjZrTuW"
      },
      "execution_count": null,
      "outputs": []
    },
    {
      "cell_type": "code",
      "source": [
        "prob = counts / counts.sum(1, keepdims = True)"
      ],
      "metadata": {
        "id": "rEj6gzSBs9oV"
      },
      "execution_count": null,
      "outputs": []
    },
    {
      "cell_type": "code",
      "source": [
        "prob.shape"
      ],
      "metadata": {
        "colab": {
          "base_uri": "https://localhost:8080/"
        },
        "id": "S93a3r8XtHaz",
        "outputId": "a823da9e-957a-44f1-ce4e-207dcb97aec9"
      },
      "execution_count": null,
      "outputs": [
        {
          "output_type": "execute_result",
          "data": {
            "text/plain": [
              "torch.Size([32, 27])"
            ]
          },
          "metadata": {},
          "execution_count": 135
        }
      ]
    },
    {
      "cell_type": "code",
      "source": [
        "prob[0].sum()"
      ],
      "metadata": {
        "colab": {
          "base_uri": "https://localhost:8080/"
        },
        "id": "y-n-6PXBtKd1",
        "outputId": "4ba6f10f-1260-4105-a078-8a5359daa215"
      },
      "execution_count": null,
      "outputs": [
        {
          "output_type": "execute_result",
          "data": {
            "text/plain": [
              "tensor(1.0000)"
            ]
          },
          "metadata": {},
          "execution_count": 136
        }
      ]
    },
    {
      "cell_type": "code",
      "source": [
        "loss = -prob[torch.arange(32), Y].log().mean()\n",
        "loss"
      ],
      "metadata": {
        "colab": {
          "base_uri": "https://localhost:8080/"
        },
        "id": "0g7uNp5dud3V",
        "outputId": "21025684-a989-4cea-b1c7-76a345facd23"
      },
      "execution_count": null,
      "outputs": [
        {
          "output_type": "execute_result",
          "data": {
            "text/plain": [
              "tensor(16.4874)"
            ]
          },
          "metadata": {},
          "execution_count": 137
        }
      ]
    },
    {
      "cell_type": "code",
      "source": [
        "prob[torch.arange(32), Y]"
      ],
      "metadata": {
        "colab": {
          "base_uri": "https://localhost:8080/"
        },
        "id": "NUFXPPweuq5g",
        "outputId": "067de876-fbda-4658-d8c8-28b81c1d3cd2"
      },
      "execution_count": null,
      "outputs": [
        {
          "output_type": "execute_result",
          "data": {
            "text/plain": [
              "tensor([2.1350e-10, 3.3846e-07, 2.1151e-15, 1.5143e-05, 1.0025e-07, 2.8344e-07,\n",
              "        1.5104e-12, 1.0266e-03, 1.0865e-14, 2.2283e-05, 6.7170e-15, 8.4179e-15,\n",
              "        1.7906e-15, 2.2197e-05, 1.5004e-09, 1.9409e-08, 9.9764e-01, 8.4400e-04,\n",
              "        2.9554e-11, 5.2174e-04, 3.1502e-10, 1.4586e-02, 9.9910e-01, 3.4516e-05,\n",
              "        1.3690e-09, 7.8498e-05, 7.3237e-06, 1.0848e-04, 3.5340e-05, 6.9169e-08,\n",
              "        1.1597e-05, 9.1587e-12])"
            ]
          },
          "metadata": {},
          "execution_count": 138
        }
      ]
    },
    {
      "cell_type": "code",
      "source": [
        "torch.arange(32)"
      ],
      "metadata": {
        "colab": {
          "base_uri": "https://localhost:8080/"
        },
        "id": "RCWBgxPUuZoT",
        "outputId": "7d067245-9fd9-4099-c560-f07e960cb4eb"
      },
      "execution_count": null,
      "outputs": [
        {
          "output_type": "execute_result",
          "data": {
            "text/plain": [
              "tensor([ 0,  1,  2,  3,  4,  5,  6,  7,  8,  9, 10, 11, 12, 13, 14, 15, 16, 17,\n",
              "        18, 19, 20, 21, 22, 23, 24, 25, 26, 27, 28, 29, 30, 31])"
            ]
          },
          "metadata": {},
          "execution_count": 139
        }
      ]
    },
    {
      "cell_type": "code",
      "source": [
        "Y "
      ],
      "metadata": {
        "colab": {
          "base_uri": "https://localhost:8080/"
        },
        "id": "cZdZw2B0tgYY",
        "outputId": "91e60ce2-7dfe-4e05-ce1a-82669efb69bc"
      },
      "execution_count": null,
      "outputs": [
        {
          "output_type": "execute_result",
          "data": {
            "text/plain": [
              "tensor([ 5, 13, 13,  1,  0, 15, 12,  9, 22,  9,  1,  0,  1, 22,  1,  0,  9, 19,\n",
              "         1,  2,  5, 12, 12,  1,  0, 19, 15, 16,  8,  9,  1,  0])"
            ]
          },
          "metadata": {},
          "execution_count": 140
        }
      ]
    },
    {
      "cell_type": "code",
      "source": [
        "# ------------ now made respectable :) ---------------"
      ],
      "metadata": {
        "id": "kWxCNDd_tpxd"
      },
      "execution_count": null,
      "outputs": []
    },
    {
      "cell_type": "code",
      "source": [
        "X.shape, Y.shape # dataset"
      ],
      "metadata": {
        "colab": {
          "base_uri": "https://localhost:8080/"
        },
        "id": "12zCAzvQvQ36",
        "outputId": "edad45ee-90db-4b1e-e721-5498a1eb32b6"
      },
      "execution_count": null,
      "outputs": [
        {
          "output_type": "execute_result",
          "data": {
            "text/plain": [
              "(torch.Size([32, 3]), torch.Size([32]))"
            ]
          },
          "metadata": {},
          "execution_count": 142
        }
      ]
    },
    {
      "cell_type": "code",
      "source": [
        "g = torch.Generator().manual_seed(2147483647) # for reproducibility\n",
        "C = torch.randn((27, 2), generator=g)\n",
        "W1 = torch.randn((6, 200), generator=g)\n",
        "b1 = torch.randn(200, generator=g)\n",
        "W2 = torch.randn((200, 27), generator=g)\n",
        "b2 = torch.randn(27, generator=g)\n",
        "parameters = [C, W1, b1, W2, b2]"
      ],
      "metadata": {
        "id": "2EAtVp28vAk7"
      },
      "execution_count": null,
      "outputs": []
    },
    {
      "cell_type": "code",
      "source": [
        "sum(p.nelement() for p in parameters) # number of parameters in total"
      ],
      "metadata": {
        "colab": {
          "base_uri": "https://localhost:8080/"
        },
        "id": "P8rZangevFcW",
        "outputId": "fc4710c2-b92f-4476-e972-68ebeb08e577"
      },
      "execution_count": null,
      "outputs": [
        {
          "output_type": "execute_result",
          "data": {
            "text/plain": [
              "6881"
            ]
          },
          "metadata": {},
          "execution_count": 144
        }
      ]
    },
    {
      "cell_type": "code",
      "source": [
        "for p in parameters:\n",
        "  p.requires_grad = True"
      ],
      "metadata": {
        "id": "OludeBrtviZN"
      },
      "execution_count": null,
      "outputs": []
    },
    {
      "cell_type": "code",
      "source": [
        "for _ in range(1000):   \n",
        "    # Forward Pass\n",
        "    emb = C[X]\n",
        "    h = torch.tanh(emb.view(-1, 6) @ W1 + b1) # (32, 100)\n",
        "    logits = h @ W2 + b2 # (32, 27)\n",
        "    # counts = logits.exp()\n",
        "    # prob = counts / counts.sum(1, keepdims =True)\n",
        "    # loss = -prob[torch.arange(32), Y].log().mean()\n",
        "    loss = F.cross_entropy(logits, Y)             # exact same thing as above 3 line\n",
        "    # Backward Pass\n",
        "    for p in parameters:\n",
        "      p.grad = None\n",
        "    loss.backward()\n",
        "\n",
        "    # Update\n",
        "    for p in parameters:\n",
        "      p.data += -0.1 * p.grad\n",
        "print(loss.item())"
      ],
      "metadata": {
        "colab": {
          "base_uri": "https://localhost:8080/"
        },
        "id": "lUTpIDxkvGIF",
        "outputId": "897a080c-449a-42b9-9a0d-015821ff03ca"
      },
      "execution_count": null,
      "outputs": [
        {
          "output_type": "stream",
          "name": "stdout",
          "text": [
            "0.25322437286376953\n"
          ]
        }
      ]
    },
    {
      "cell_type": "code",
      "source": [
        "logits.max(1)"
      ],
      "metadata": {
        "colab": {
          "base_uri": "https://localhost:8080/"
        },
        "id": "Qo5PNMfQyqtl",
        "outputId": "ec915ab5-f5b8-4ff9-9b89-e0306df3bd4a"
      },
      "execution_count": null,
      "outputs": [
        {
          "output_type": "execute_result",
          "data": {
            "text/plain": [
              "torch.return_types.max(\n",
              "values=tensor([ 9.5901, 13.7441, 18.2820, 25.2509, 18.7557,  9.5901, 16.0939, 22.5055,\n",
              "        15.1233, 23.8861, 14.7866, 20.1084,  9.5901, 17.4110, 20.2590, 14.9805,\n",
              "         9.5901, 17.3584, 19.2615, 14.1928, 14.3030, 10.6854, 18.5600, 17.8931,\n",
              "        17.8410,  9.5901, 17.4807, 18.3298, 11.5068, 18.5497, 22.2679, 18.9302],\n",
              "       grad_fn=<MaxBackward0>),\n",
              "indices=tensor([ 1, 13, 13,  1,  0,  1, 12,  9, 22,  9,  1,  0,  1, 22,  1,  0,  1, 19,\n",
              "         1,  2,  5, 12, 12,  1,  0,  1, 15, 16,  8,  9,  1,  0]))"
            ]
          },
          "metadata": {},
          "execution_count": 147
        }
      ]
    },
    {
      "cell_type": "code",
      "source": [
        "Y"
      ],
      "metadata": {
        "colab": {
          "base_uri": "https://localhost:8080/"
        },
        "id": "5zLkA__8yqrg",
        "outputId": "c07bf374-2673-481f-9992-ad1d398171ca"
      },
      "execution_count": null,
      "outputs": [
        {
          "output_type": "execute_result",
          "data": {
            "text/plain": [
              "tensor([ 5, 13, 13,  1,  0, 15, 12,  9, 22,  9,  1,  0,  1, 22,  1,  0,  9, 19,\n",
              "         1,  2,  5, 12, 12,  1,  0, 19, 15, 16,  8,  9,  1,  0])"
            ]
          },
          "metadata": {},
          "execution_count": 148
        }
      ]
    },
    {
      "cell_type": "markdown",
      "source": [
        "Why you should use .cross_entropy :\n",
        "* **Forward pass can be much more efficient**: when you run cross_entropy pytorch will not create all these intermediate tensors coz all these are new tensors in memory so these are fairly inefficient. instead pytroch will clustored up all these operations and very often use fused kernels that very efficiently evaluate expressions.\n",
        "\n",
        "* Backward pass can made much more efficient ( mathematically and analytically.\n",
        "* Things can be much more numerically well behaved "
      ],
      "metadata": {
        "id": "Ww_5ZiVui8Us"
      }
    },
    {
      "cell_type": "code",
      "source": [
        "logits = torch.tensor([-100, -3, 0, 5])                # [-2, -3, 0, 5] suppose we put 100 in place of -2\n",
        "counts = logits.exp()                                  # nothing would really change\n",
        "probs = counts / counts.sum()\n",
        "probs"
      ],
      "metadata": {
        "colab": {
          "base_uri": "https://localhost:8080/"
        },
        "id": "-vAC5INsf5Kp",
        "outputId": "36f70d3d-2319-4dc0-deef-c7813768f7b2"
      },
      "execution_count": null,
      "outputs": [
        {
          "output_type": "execute_result",
          "data": {
            "text/plain": [
              "tensor([0.0000e+00, 3.3311e-04, 6.6906e-03, 9.9298e-01])"
            ]
          },
          "metadata": {},
          "execution_count": 149
        }
      ]
    },
    {
      "cell_type": "code",
      "source": [
        "logits = torch.tensor([-100, -3, 0, 100])              # but because how exp function works if you have very \n",
        "counts = logits.exp()                                  # positive logits you will get nan\n",
        "probs = counts / counts.sum()\n",
        "probs"
      ],
      "metadata": {
        "colab": {
          "base_uri": "https://localhost:8080/"
        },
        "id": "zMBr-b3vic5D",
        "outputId": "b574818d-afda-4268-e2b5-cdbc33e8bbfe"
      },
      "execution_count": null,
      "outputs": [
        {
          "output_type": "execute_result",
          "data": {
            "text/plain": [
              "tensor([0., 0., 0., nan])"
            ]
          },
          "metadata": {},
          "execution_count": 150
        }
      ]
    },
    {
      "cell_type": "code",
      "source": [
        "counts     # reason is you 'inf' in your counts i.e e^100 we ran out of dynamic range on this floating count number\n"
      ],
      "metadata": {
        "colab": {
          "base_uri": "https://localhost:8080/"
        },
        "id": "bCvy5KSvrtfK",
        "outputId": "12ce7a16-7dc5-4d40-d737-ab3596f5a753"
      },
      "execution_count": null,
      "outputs": [
        {
          "output_type": "execute_result",
          "data": {
            "text/plain": [
              "tensor([3.7835e-44, 4.9787e-02, 1.0000e+00,        inf])"
            ]
          },
          "metadata": {},
          "execution_count": 151
        }
      ]
    },
    {
      "cell_type": "markdown",
      "source": [
        "the way pytorch solve this,because of the normalization you can offset the logits by any arbitray constant value that you want\n",
        "\n",
        "what pytorch does is it calculates internally the maximum value that occurs in a logits and it subtracts it."
      ],
      "metadata": {
        "id": "LL5Q3IcUswMv"
      }
    },
    {
      "cell_type": "code",
      "source": [
        "logits = torch.tensor([-5, -3, 0, 100]) - 100             # -ve numbers are okay but +ve numbers can overflow this .exp\n",
        "counts = logits.exp()                                 \n",
        "probs = counts / counts.sum()\n",
        "probs                                                     # now this will work"
      ],
      "metadata": {
        "colab": {
          "base_uri": "https://localhost:8080/"
        },
        "id": "MAxd0dR4rwbp",
        "outputId": "71dd92f1-5d44-4bf3-904f-fd11d0845d7a"
      },
      "execution_count": null,
      "outputs": [
        {
          "output_type": "execute_result",
          "data": {
            "text/plain": [
              "tensor([0.0000e+00, 1.4013e-45, 3.7835e-44, 1.0000e+00])"
            ]
          },
          "metadata": {},
          "execution_count": 152
        }
      ]
    },
    {
      "cell_type": "code",
      "source": [
        "torch.randint(0, 4, (32,))"
      ],
      "metadata": {
        "colab": {
          "base_uri": "https://localhost:8080/"
        },
        "id": "96vB2A4V1WgU",
        "outputId": "e4c44399-29b0-46ab-dce6-799f0ea8e5b8"
      },
      "execution_count": null,
      "outputs": [
        {
          "output_type": "execute_result",
          "data": {
            "text/plain": [
              "tensor([3, 0, 2, 2, 0, 3, 1, 1, 0, 1, 1, 0, 2, 3, 3, 0, 0, 2, 3, 1, 2, 0, 0, 0,\n",
              "        1, 2, 0, 1, 1, 1, 2, 0])"
            ]
          },
          "metadata": {},
          "execution_count": 153
        }
      ]
    },
    {
      "cell_type": "code",
      "source": [
        "torch.randint(0, X.shape[0], (32,))"
      ],
      "metadata": {
        "colab": {
          "base_uri": "https://localhost:8080/"
        },
        "id": "LFL50w080g7N",
        "outputId": "2e86c571-2ab2-4afe-c66f-16f2951fc549"
      },
      "execution_count": null,
      "outputs": [
        {
          "output_type": "execute_result",
          "data": {
            "text/plain": [
              "tensor([20,  5, 12, 24,  8,  2,  8,  4, 22, 14, 11, 14, 24,  1, 30,  9, 21, 26,\n",
              "         1, 19, 16, 16,  1, 24, 24, 28, 15,  4, 27, 17, 22,  9])"
            ]
          },
          "metadata": {},
          "execution_count": 154
        }
      ]
    },
    {
      "cell_type": "markdown",
      "source": [
        "# Doing for the procces on whole dataset"
      ],
      "metadata": {
        "id": "DWVFW37uz_4b"
      }
    },
    {
      "cell_type": "code",
      "source": [
        "# build the dataset\n",
        "block_size = 3 # context length: how many characters do we take to predict the next one?\n",
        "\n",
        "def build_dataset(words):  \n",
        "  X, Y = [], []\n",
        "  for w in words:\n",
        "\n",
        "    #print(w)\n",
        "    context = [0] * block_size\n",
        "    for ch in w + '.':\n",
        "      ix = stoi[ch]\n",
        "      X.append(context)\n",
        "      Y.append(ix)\n",
        "      #print(''.join(itos[i] for i in context), '--->', itos[ix])\n",
        "      context = context[1:] + [ix] # crop and append\n",
        "\n",
        "  X = torch.tensor(X)\n",
        "  Y = torch.tensor(Y)\n",
        "  print(X.shape, Y.shape)\n",
        "  return X, Y\n",
        "\n",
        "import random\n",
        "random.seed(42)\n",
        "random.shuffle(words)\n",
        "n1 = int(0.8*len(words))\n",
        "n2 = int(0.9*len(words))\n",
        "\n",
        "Xtr, Ytr = build_dataset(words[:n1])\n",
        "Xdev, Ydev = build_dataset(words[n1:n2])\n",
        "Xte, Yte = build_dataset(words[n2:])"
      ],
      "metadata": {
        "colab": {
          "base_uri": "https://localhost:8080/"
        },
        "id": "jXTKBVnfzKcC",
        "outputId": "a2bce569-fd88-435d-82b2-1cdfbc2b85a6"
      },
      "execution_count": null,
      "outputs": [
        {
          "output_type": "stream",
          "name": "stdout",
          "text": [
            "torch.Size([182437, 3]) torch.Size([182437])\n",
            "torch.Size([22781, 3]) torch.Size([22781])\n",
            "torch.Size([22928, 3]) torch.Size([22928])\n"
          ]
        }
      ]
    },
    {
      "cell_type": "code",
      "source": [
        "len(words)"
      ],
      "metadata": {
        "colab": {
          "base_uri": "https://localhost:8080/"
        },
        "id": "BWEzf8NrYxHR",
        "outputId": "f590ebfd-a38b-40be-91c2-7087513ccb5e"
      },
      "execution_count": null,
      "outputs": [
        {
          "output_type": "execute_result",
          "data": {
            "text/plain": [
              "32033"
            ]
          },
          "metadata": {},
          "execution_count": 194
        }
      ]
    },
    {
      "cell_type": "code",
      "source": [
        "n1"
      ],
      "metadata": {
        "colab": {
          "base_uri": "https://localhost:8080/"
        },
        "id": "2Bmtp_stYzEO",
        "outputId": "e7882172-6055-4384-b4c6-44baa6b06c18"
      },
      "execution_count": null,
      "outputs": [
        {
          "output_type": "execute_result",
          "data": {
            "text/plain": [
              "25626"
            ]
          },
          "metadata": {},
          "execution_count": 195
        }
      ]
    },
    {
      "cell_type": "code",
      "source": [
        "n2"
      ],
      "metadata": {
        "colab": {
          "base_uri": "https://localhost:8080/"
        },
        "id": "m2AtmSzPY8u3",
        "outputId": "60cdbf1f-5ca7-44a6-d6cb-87fb41886570"
      },
      "execution_count": null,
      "outputs": [
        {
          "output_type": "execute_result",
          "data": {
            "text/plain": [
              "28829"
            ]
          },
          "metadata": {},
          "execution_count": 196
        }
      ]
    },
    {
      "cell_type": "code",
      "source": [
        "n2 - n1 "
      ],
      "metadata": {
        "colab": {
          "base_uri": "https://localhost:8080/"
        },
        "id": "-ATCr-giY4cS",
        "outputId": "90840ea8-8f4b-4b5c-c138-4bddbcd21c1c"
      },
      "execution_count": null,
      "outputs": [
        {
          "output_type": "execute_result",
          "data": {
            "text/plain": [
              "3203"
            ]
          },
          "metadata": {},
          "execution_count": 197
        }
      ]
    },
    {
      "cell_type": "code",
      "source": [
        "len(words) - n2"
      ],
      "metadata": {
        "colab": {
          "base_uri": "https://localhost:8080/"
        },
        "id": "wfZ6vCVQY6ay",
        "outputId": "7a579e05-713d-4dc6-86b2-202e1100d40c"
      },
      "execution_count": null,
      "outputs": [
        {
          "output_type": "execute_result",
          "data": {
            "text/plain": [
              "3204"
            ]
          },
          "metadata": {},
          "execution_count": 198
        }
      ]
    },
    {
      "cell_type": "code",
      "source": [
        "Xtr.shape, Ytr.shape"
      ],
      "metadata": {
        "colab": {
          "base_uri": "https://localhost:8080/"
        },
        "id": "pbk6ctcXzKS9",
        "outputId": "3d8b0bbe-842c-45ef-d682-69880def71b0"
      },
      "execution_count": null,
      "outputs": [
        {
          "output_type": "execute_result",
          "data": {
            "text/plain": [
              "(torch.Size([182437, 3]), torch.Size([182437]))"
            ]
          },
          "metadata": {},
          "execution_count": 199
        }
      ]
    },
    {
      "cell_type": "code",
      "source": [
        "g = torch.Generator().manual_seed(2147483647) # for reproducibility\n",
        "C = torch.randn((27, 10), generator=g)\n",
        "W1 = torch.randn((30, 200), generator=g)\n",
        "b1 = torch.randn(200, generator=g)\n",
        "W2 = torch.randn((200, 27), generator=g)\n",
        "b2 = torch.randn(27, generator=g)\n",
        "parameters = [C, W1, b1, W2, b2]"
      ],
      "metadata": {
        "id": "vPRO_A1OtKMm"
      },
      "execution_count": null,
      "outputs": []
    },
    {
      "cell_type": "code",
      "source": [
        "sum(p.nelement() for p in parameters) # number of parameters in total"
      ],
      "metadata": {
        "colab": {
          "base_uri": "https://localhost:8080/"
        },
        "id": "Gmvq6Gkw0hCy",
        "outputId": "2b4d75c8-3255-4760-ddd1-173ef2dc6c21"
      },
      "execution_count": null,
      "outputs": [
        {
          "output_type": "execute_result",
          "data": {
            "text/plain": [
              "11897"
            ]
          },
          "metadata": {},
          "execution_count": 201
        }
      ]
    },
    {
      "cell_type": "code",
      "source": [
        "for p in parameters:\n",
        "  p.requires_grad = True"
      ],
      "metadata": {
        "id": "VWRSIQ8n0hAE"
      },
      "execution_count": null,
      "outputs": []
    },
    {
      "cell_type": "code",
      "source": [
        "lre = torch.linspace(-3, 0,1000)\n",
        "lrs = 10**lre\n",
        "lrs"
      ],
      "metadata": {
        "colab": {
          "base_uri": "https://localhost:8080/"
        },
        "id": "EOTSDFY3SNmE",
        "outputId": "1aefe5fb-cd88-4395-cc07-112c76ab49e7"
      },
      "execution_count": null,
      "outputs": [
        {
          "output_type": "execute_result",
          "data": {
            "text/plain": [
              "tensor([0.0010, 0.0010, 0.0010, 0.0010, 0.0010, 0.0010, 0.0010, 0.0010, 0.0011,\n",
              "        0.0011, 0.0011, 0.0011, 0.0011, 0.0011, 0.0011, 0.0011, 0.0011, 0.0011,\n",
              "        0.0011, 0.0011, 0.0011, 0.0012, 0.0012, 0.0012, 0.0012, 0.0012, 0.0012,\n",
              "        0.0012, 0.0012, 0.0012, 0.0012, 0.0012, 0.0012, 0.0013, 0.0013, 0.0013,\n",
              "        0.0013, 0.0013, 0.0013, 0.0013, 0.0013, 0.0013, 0.0013, 0.0013, 0.0014,\n",
              "        0.0014, 0.0014, 0.0014, 0.0014, 0.0014, 0.0014, 0.0014, 0.0014, 0.0014,\n",
              "        0.0015, 0.0015, 0.0015, 0.0015, 0.0015, 0.0015, 0.0015, 0.0015, 0.0015,\n",
              "        0.0015, 0.0016, 0.0016, 0.0016, 0.0016, 0.0016, 0.0016, 0.0016, 0.0016,\n",
              "        0.0016, 0.0017, 0.0017, 0.0017, 0.0017, 0.0017, 0.0017, 0.0017, 0.0017,\n",
              "        0.0018, 0.0018, 0.0018, 0.0018, 0.0018, 0.0018, 0.0018, 0.0018, 0.0019,\n",
              "        0.0019, 0.0019, 0.0019, 0.0019, 0.0019, 0.0019, 0.0019, 0.0020, 0.0020,\n",
              "        0.0020, 0.0020, 0.0020, 0.0020, 0.0020, 0.0021, 0.0021, 0.0021, 0.0021,\n",
              "        0.0021, 0.0021, 0.0021, 0.0022, 0.0022, 0.0022, 0.0022, 0.0022, 0.0022,\n",
              "        0.0022, 0.0023, 0.0023, 0.0023, 0.0023, 0.0023, 0.0023, 0.0024, 0.0024,\n",
              "        0.0024, 0.0024, 0.0024, 0.0024, 0.0025, 0.0025, 0.0025, 0.0025, 0.0025,\n",
              "        0.0025, 0.0026, 0.0026, 0.0026, 0.0026, 0.0026, 0.0027, 0.0027, 0.0027,\n",
              "        0.0027, 0.0027, 0.0027, 0.0028, 0.0028, 0.0028, 0.0028, 0.0028, 0.0029,\n",
              "        0.0029, 0.0029, 0.0029, 0.0029, 0.0030, 0.0030, 0.0030, 0.0030, 0.0030,\n",
              "        0.0031, 0.0031, 0.0031, 0.0031, 0.0032, 0.0032, 0.0032, 0.0032, 0.0032,\n",
              "        0.0033, 0.0033, 0.0033, 0.0033, 0.0034, 0.0034, 0.0034, 0.0034, 0.0034,\n",
              "        0.0035, 0.0035, 0.0035, 0.0035, 0.0036, 0.0036, 0.0036, 0.0036, 0.0037,\n",
              "        0.0037, 0.0037, 0.0037, 0.0038, 0.0038, 0.0038, 0.0039, 0.0039, 0.0039,\n",
              "        0.0039, 0.0040, 0.0040, 0.0040, 0.0040, 0.0041, 0.0041, 0.0041, 0.0042,\n",
              "        0.0042, 0.0042, 0.0042, 0.0043, 0.0043, 0.0043, 0.0044, 0.0044, 0.0044,\n",
              "        0.0045, 0.0045, 0.0045, 0.0045, 0.0046, 0.0046, 0.0046, 0.0047, 0.0047,\n",
              "        0.0047, 0.0048, 0.0048, 0.0048, 0.0049, 0.0049, 0.0049, 0.0050, 0.0050,\n",
              "        0.0050, 0.0051, 0.0051, 0.0051, 0.0052, 0.0052, 0.0053, 0.0053, 0.0053,\n",
              "        0.0054, 0.0054, 0.0054, 0.0055, 0.0055, 0.0056, 0.0056, 0.0056, 0.0057,\n",
              "        0.0057, 0.0058, 0.0058, 0.0058, 0.0059, 0.0059, 0.0060, 0.0060, 0.0060,\n",
              "        0.0061, 0.0061, 0.0062, 0.0062, 0.0062, 0.0063, 0.0063, 0.0064, 0.0064,\n",
              "        0.0065, 0.0065, 0.0066, 0.0066, 0.0067, 0.0067, 0.0067, 0.0068, 0.0068,\n",
              "        0.0069, 0.0069, 0.0070, 0.0070, 0.0071, 0.0071, 0.0072, 0.0072, 0.0073,\n",
              "        0.0073, 0.0074, 0.0074, 0.0075, 0.0075, 0.0076, 0.0076, 0.0077, 0.0077,\n",
              "        0.0078, 0.0079, 0.0079, 0.0080, 0.0080, 0.0081, 0.0081, 0.0082, 0.0082,\n",
              "        0.0083, 0.0084, 0.0084, 0.0085, 0.0085, 0.0086, 0.0086, 0.0087, 0.0088,\n",
              "        0.0088, 0.0089, 0.0090, 0.0090, 0.0091, 0.0091, 0.0092, 0.0093, 0.0093,\n",
              "        0.0094, 0.0095, 0.0095, 0.0096, 0.0097, 0.0097, 0.0098, 0.0099, 0.0099,\n",
              "        0.0100, 0.0101, 0.0101, 0.0102, 0.0103, 0.0104, 0.0104, 0.0105, 0.0106,\n",
              "        0.0106, 0.0107, 0.0108, 0.0109, 0.0109, 0.0110, 0.0111, 0.0112, 0.0112,\n",
              "        0.0113, 0.0114, 0.0115, 0.0116, 0.0116, 0.0117, 0.0118, 0.0119, 0.0120,\n",
              "        0.0121, 0.0121, 0.0122, 0.0123, 0.0124, 0.0125, 0.0126, 0.0127, 0.0127,\n",
              "        0.0128, 0.0129, 0.0130, 0.0131, 0.0132, 0.0133, 0.0134, 0.0135, 0.0136,\n",
              "        0.0137, 0.0137, 0.0138, 0.0139, 0.0140, 0.0141, 0.0142, 0.0143, 0.0144,\n",
              "        0.0145, 0.0146, 0.0147, 0.0148, 0.0149, 0.0150, 0.0151, 0.0152, 0.0154,\n",
              "        0.0155, 0.0156, 0.0157, 0.0158, 0.0159, 0.0160, 0.0161, 0.0162, 0.0163,\n",
              "        0.0165, 0.0166, 0.0167, 0.0168, 0.0169, 0.0170, 0.0171, 0.0173, 0.0174,\n",
              "        0.0175, 0.0176, 0.0178, 0.0179, 0.0180, 0.0181, 0.0182, 0.0184, 0.0185,\n",
              "        0.0186, 0.0188, 0.0189, 0.0190, 0.0192, 0.0193, 0.0194, 0.0196, 0.0197,\n",
              "        0.0198, 0.0200, 0.0201, 0.0202, 0.0204, 0.0205, 0.0207, 0.0208, 0.0210,\n",
              "        0.0211, 0.0212, 0.0214, 0.0215, 0.0217, 0.0218, 0.0220, 0.0221, 0.0223,\n",
              "        0.0225, 0.0226, 0.0228, 0.0229, 0.0231, 0.0232, 0.0234, 0.0236, 0.0237,\n",
              "        0.0239, 0.0241, 0.0242, 0.0244, 0.0246, 0.0247, 0.0249, 0.0251, 0.0253,\n",
              "        0.0254, 0.0256, 0.0258, 0.0260, 0.0261, 0.0263, 0.0265, 0.0267, 0.0269,\n",
              "        0.0271, 0.0273, 0.0274, 0.0276, 0.0278, 0.0280, 0.0282, 0.0284, 0.0286,\n",
              "        0.0288, 0.0290, 0.0292, 0.0294, 0.0296, 0.0298, 0.0300, 0.0302, 0.0304,\n",
              "        0.0307, 0.0309, 0.0311, 0.0313, 0.0315, 0.0317, 0.0320, 0.0322, 0.0324,\n",
              "        0.0326, 0.0328, 0.0331, 0.0333, 0.0335, 0.0338, 0.0340, 0.0342, 0.0345,\n",
              "        0.0347, 0.0350, 0.0352, 0.0354, 0.0357, 0.0359, 0.0362, 0.0364, 0.0367,\n",
              "        0.0369, 0.0372, 0.0375, 0.0377, 0.0380, 0.0382, 0.0385, 0.0388, 0.0390,\n",
              "        0.0393, 0.0396, 0.0399, 0.0401, 0.0404, 0.0407, 0.0410, 0.0413, 0.0416,\n",
              "        0.0418, 0.0421, 0.0424, 0.0427, 0.0430, 0.0433, 0.0436, 0.0439, 0.0442,\n",
              "        0.0445, 0.0448, 0.0451, 0.0455, 0.0458, 0.0461, 0.0464, 0.0467, 0.0471,\n",
              "        0.0474, 0.0477, 0.0480, 0.0484, 0.0487, 0.0491, 0.0494, 0.0497, 0.0501,\n",
              "        0.0504, 0.0508, 0.0511, 0.0515, 0.0518, 0.0522, 0.0526, 0.0529, 0.0533,\n",
              "        0.0537, 0.0540, 0.0544, 0.0548, 0.0552, 0.0556, 0.0559, 0.0563, 0.0567,\n",
              "        0.0571, 0.0575, 0.0579, 0.0583, 0.0587, 0.0591, 0.0595, 0.0599, 0.0604,\n",
              "        0.0608, 0.0612, 0.0616, 0.0621, 0.0625, 0.0629, 0.0634, 0.0638, 0.0642,\n",
              "        0.0647, 0.0651, 0.0656, 0.0660, 0.0665, 0.0670, 0.0674, 0.0679, 0.0684,\n",
              "        0.0688, 0.0693, 0.0698, 0.0703, 0.0708, 0.0713, 0.0718, 0.0723, 0.0728,\n",
              "        0.0733, 0.0738, 0.0743, 0.0748, 0.0753, 0.0758, 0.0764, 0.0769, 0.0774,\n",
              "        0.0780, 0.0785, 0.0790, 0.0796, 0.0802, 0.0807, 0.0813, 0.0818, 0.0824,\n",
              "        0.0830, 0.0835, 0.0841, 0.0847, 0.0853, 0.0859, 0.0865, 0.0871, 0.0877,\n",
              "        0.0883, 0.0889, 0.0895, 0.0901, 0.0908, 0.0914, 0.0920, 0.0927, 0.0933,\n",
              "        0.0940, 0.0946, 0.0953, 0.0959, 0.0966, 0.0973, 0.0979, 0.0986, 0.0993,\n",
              "        0.1000, 0.1007, 0.1014, 0.1021, 0.1028, 0.1035, 0.1042, 0.1050, 0.1057,\n",
              "        0.1064, 0.1072, 0.1079, 0.1087, 0.1094, 0.1102, 0.1109, 0.1117, 0.1125,\n",
              "        0.1133, 0.1140, 0.1148, 0.1156, 0.1164, 0.1172, 0.1181, 0.1189, 0.1197,\n",
              "        0.1205, 0.1214, 0.1222, 0.1231, 0.1239, 0.1248, 0.1256, 0.1265, 0.1274,\n",
              "        0.1283, 0.1292, 0.1301, 0.1310, 0.1319, 0.1328, 0.1337, 0.1346, 0.1356,\n",
              "        0.1365, 0.1374, 0.1384, 0.1394, 0.1403, 0.1413, 0.1423, 0.1433, 0.1443,\n",
              "        0.1453, 0.1463, 0.1473, 0.1483, 0.1493, 0.1504, 0.1514, 0.1525, 0.1535,\n",
              "        0.1546, 0.1557, 0.1567, 0.1578, 0.1589, 0.1600, 0.1611, 0.1623, 0.1634,\n",
              "        0.1645, 0.1657, 0.1668, 0.1680, 0.1691, 0.1703, 0.1715, 0.1727, 0.1739,\n",
              "        0.1751, 0.1763, 0.1775, 0.1788, 0.1800, 0.1812, 0.1825, 0.1838, 0.1850,\n",
              "        0.1863, 0.1876, 0.1889, 0.1902, 0.1916, 0.1929, 0.1942, 0.1956, 0.1969,\n",
              "        0.1983, 0.1997, 0.2010, 0.2024, 0.2038, 0.2053, 0.2067, 0.2081, 0.2096,\n",
              "        0.2110, 0.2125, 0.2140, 0.2154, 0.2169, 0.2184, 0.2200, 0.2215, 0.2230,\n",
              "        0.2246, 0.2261, 0.2277, 0.2293, 0.2309, 0.2325, 0.2341, 0.2357, 0.2373,\n",
              "        0.2390, 0.2406, 0.2423, 0.2440, 0.2457, 0.2474, 0.2491, 0.2508, 0.2526,\n",
              "        0.2543, 0.2561, 0.2579, 0.2597, 0.2615, 0.2633, 0.2651, 0.2669, 0.2688,\n",
              "        0.2707, 0.2725, 0.2744, 0.2763, 0.2783, 0.2802, 0.2821, 0.2841, 0.2861,\n",
              "        0.2880, 0.2900, 0.2921, 0.2941, 0.2961, 0.2982, 0.3002, 0.3023, 0.3044,\n",
              "        0.3065, 0.3087, 0.3108, 0.3130, 0.3151, 0.3173, 0.3195, 0.3217, 0.3240,\n",
              "        0.3262, 0.3285, 0.3308, 0.3331, 0.3354, 0.3377, 0.3400, 0.3424, 0.3448,\n",
              "        0.3472, 0.3496, 0.3520, 0.3544, 0.3569, 0.3594, 0.3619, 0.3644, 0.3669,\n",
              "        0.3695, 0.3720, 0.3746, 0.3772, 0.3798, 0.3825, 0.3851, 0.3878, 0.3905,\n",
              "        0.3932, 0.3959, 0.3987, 0.4014, 0.4042, 0.4070, 0.4098, 0.4127, 0.4155,\n",
              "        0.4184, 0.4213, 0.4243, 0.4272, 0.4302, 0.4331, 0.4362, 0.4392, 0.4422,\n",
              "        0.4453, 0.4484, 0.4515, 0.4546, 0.4578, 0.4610, 0.4642, 0.4674, 0.4706,\n",
              "        0.4739, 0.4772, 0.4805, 0.4838, 0.4872, 0.4906, 0.4940, 0.4974, 0.5008,\n",
              "        0.5043, 0.5078, 0.5113, 0.5149, 0.5185, 0.5221, 0.5257, 0.5293, 0.5330,\n",
              "        0.5367, 0.5404, 0.5442, 0.5479, 0.5517, 0.5556, 0.5594, 0.5633, 0.5672,\n",
              "        0.5712, 0.5751, 0.5791, 0.5831, 0.5872, 0.5913, 0.5954, 0.5995, 0.6036,\n",
              "        0.6078, 0.6120, 0.6163, 0.6206, 0.6249, 0.6292, 0.6336, 0.6380, 0.6424,\n",
              "        0.6469, 0.6513, 0.6559, 0.6604, 0.6650, 0.6696, 0.6743, 0.6789, 0.6837,\n",
              "        0.6884, 0.6932, 0.6980, 0.7028, 0.7077, 0.7126, 0.7176, 0.7225, 0.7275,\n",
              "        0.7326, 0.7377, 0.7428, 0.7480, 0.7531, 0.7584, 0.7636, 0.7689, 0.7743,\n",
              "        0.7796, 0.7850, 0.7905, 0.7960, 0.8015, 0.8071, 0.8127, 0.8183, 0.8240,\n",
              "        0.8297, 0.8355, 0.8412, 0.8471, 0.8530, 0.8589, 0.8648, 0.8708, 0.8769,\n",
              "        0.8830, 0.8891, 0.8953, 0.9015, 0.9077, 0.9140, 0.9204, 0.9268, 0.9332,\n",
              "        0.9397, 0.9462, 0.9528, 0.9594, 0.9660, 0.9727, 0.9795, 0.9863, 0.9931,\n",
              "        1.0000])"
            ]
          },
          "metadata": {},
          "execution_count": 203
        }
      ]
    },
    {
      "cell_type": "code",
      "source": [
        "lri = []\n",
        "lossi = []\n",
        "stepi = []"
      ],
      "metadata": {
        "id": "MkVMv4D_eOVo"
      },
      "execution_count": null,
      "outputs": []
    },
    {
      "cell_type": "code",
      "source": [
        "for i in range(200000):   \n",
        "\n",
        "    # minibatch construct\n",
        "    ix = torch.randint(0, Xtr.shape[0], (32,))\n",
        "\n",
        "    # Forward Pass\n",
        "    emb = C[Xtr[ix]]         #(32, 3, 2)\n",
        "    h = torch.tanh(emb.view(-1, 30) @ W1 + b1) # (32, 100)\n",
        "    logits = h @ W2 + b2 # (32, 27)\n",
        "    loss = F.cross_entropy(logits, Ytr[ix]) \n",
        "   #\n",
        "           \n",
        "    # Backward Pass\n",
        "    for p in parameters:\n",
        "      p.grad = None\n",
        "    loss.backward()\n",
        "\n",
        "    # Update\n",
        "    # lr = lrs[i]\n",
        "    lr = 0.1 if i < 100000 else 0.01   # 10**-1\n",
        "    for p in parameters:\n",
        "      p.data += -lr * p.grad\n",
        "\n",
        "    # track stats\n",
        "    # lri.append(lre[i])\n",
        "    stepi.append(i)\n",
        "    lossi.append(loss.log10().item())\n",
        "#print(loss.item())"
      ],
      "metadata": {
        "id": "ZtmhCA4T0g9k"
      },
      "execution_count": null,
      "outputs": []
    },
    {
      "cell_type": "code",
      "source": [
        "print(loss.item())"
      ],
      "metadata": {
        "colab": {
          "base_uri": "https://localhost:8080/"
        },
        "id": "WJokh62zZ0Xh",
        "outputId": "e3bcde3c-a714-409a-8ffa-32bf35d2daca"
      },
      "execution_count": null,
      "outputs": [
        {
          "output_type": "stream",
          "name": "stdout",
          "text": [
            "2.154421329498291\n"
          ]
        }
      ]
    },
    {
      "cell_type": "code",
      "source": [
        "plt.plot(stepi, lossi)"
      ],
      "metadata": {
        "colab": {
          "base_uri": "https://localhost:8080/",
          "height": 282
        },
        "id": "euthsBZmaCCu",
        "outputId": "6b89792d-20f6-413f-d513-2acf215adf6d"
      },
      "execution_count": null,
      "outputs": [
        {
          "output_type": "execute_result",
          "data": {
            "text/plain": [
              "[<matplotlib.lines.Line2D at 0x7f35714b9410>]"
            ]
          },
          "metadata": {},
          "execution_count": 217
        },
        {
          "output_type": "display_data",
          "data": {
            "text/plain": [
              "<Figure size 432x288 with 1 Axes>"
            ],
            "image/png": "[encoded data removed]"
          },
          "metadata": {
            "needs_background": "light"
          }
        }
      ]
    },
    {
      "cell_type": "code",
      "source": [
        "emb = C[Xtr] # (32, 3, 2)\n",
        "h = torch.tanh(emb.view(-1, 30) @ W1 + b1) # (32, 100)\n",
        "logits = h @ W2 + b2 # (32, 27)\n",
        "loss = F.cross_entropy(logits, Ytr)\n",
        "loss"
      ],
      "metadata": {
        "colab": {
          "base_uri": "https://localhost:8080/"
        },
        "id": "vGY3g1Y50g5C",
        "outputId": "e4eb451b-78e4-4180-c4aa-159dd232f524"
      },
      "execution_count": null,
      "outputs": [
        {
          "output_type": "execute_result",
          "data": {
            "text/plain": [
              "tensor(2.1109, grad_fn=<NllLossBackward0>)"
            ]
          },
          "metadata": {},
          "execution_count": 218
        }
      ]
    },
    {
      "cell_type": "code",
      "source": [
        "emb = C[Xdev] # (32, 3, 2)\n",
        "h = torch.tanh(emb.view(-1, 30) @ W1 + b1) # (32, 100)\n",
        "logits = h @ W2 + b2 # (32, 27)\n",
        "loss = F.cross_entropy(logits, Ydev)\n",
        "loss"
      ],
      "metadata": {
        "colab": {
          "base_uri": "https://localhost:8080/"
        },
        "id": "PTzYB9X5b7eq",
        "outputId": "bb7b8b3c-740a-4f71-c919-494887d51a4f"
      },
      "execution_count": null,
      "outputs": [
        {
          "output_type": "execute_result",
          "data": {
            "text/plain": [
              "tensor(2.1781, grad_fn=<NllLossBackward0>)"
            ]
          },
          "metadata": {},
          "execution_count": 219
        }
      ]
    },
    {
      "cell_type": "code",
      "source": [
        "# training split, dev/validation split, test split\n",
        "# 80%, 10%, 10%"
      ],
      "metadata": {
        "id": "xUhJhBYQV52h"
      },
      "execution_count": null,
      "outputs": []
    },
    {
      "cell_type": "code",
      "source": [
        "# visualize dimensions 0 and 1 of the embedding matrix C for all characters\n",
        "plt.figure(figsize=(8,8))\n",
        "plt.scatter(C[:,0].data, C[:,1].data, s=200)\n",
        "for i in range(C.shape[0]):\n",
        "    plt.text(C[i,0].item(), C[i,1].item(), itos[i], ha=\"center\", va=\"center\", color='white')\n",
        "plt.grid('minor')"
      ],
      "metadata": {
        "colab": {
          "base_uri": "https://localhost:8080/",
          "height": 483
        },
        "id": "bnE7wjq0dwnF",
        "outputId": "c19f8bd9-9289-4659-ecfb-198644f68664"
      },
      "execution_count": null,
      "outputs": [
        {
          "output_type": "display_data",
          "data": {
            "text/plain": [
              "<Figure size 576x576 with 1 Axes>"
            ],
            "image/png": "[encoded data removed]"
          },
          "metadata": {
            "needs_background": "light"
          }
        }
      ]
    },
    {
      "cell_type": "markdown",
      "source": [
        "Training split : used to optimize or train the parameters in the model\n",
        "\n",
        "Dev/val split : used to optimize or train the hyper-parameters of the model      ( size of the hidden layers, size of the embedding)\n",
        "\n",
        "test plit : used to evaluate the model "
      ],
      "metadata": {
        "id": "vFlXOVaiXW58"
      }
    },
    {
      "cell_type": "code",
      "source": [
        "context = [0] * block_size\n",
        "C[torch.tensor([context])].shape"
      ],
      "metadata": {
        "colab": {
          "base_uri": "https://localhost:8080/"
        },
        "id": "StLKgdyzXWqy",
        "outputId": "d02f79a7-6156-40da-d09d-e36454437ea7"
      },
      "execution_count": null,
      "outputs": [
        {
          "output_type": "execute_result",
          "data": {
            "text/plain": [
              "torch.Size([1, 3, 10])"
            ]
          },
          "metadata": {},
          "execution_count": 220
        }
      ]
    },
    {
      "cell_type": "code",
      "source": [
        "# sample from the model\n",
        "g = torch.Generator().manual_seed(2147483647 + 10)\n",
        "\n",
        "for _ in range(20):\n",
        "    \n",
        "    out = []\n",
        "    context = [0] * block_size # initialize with all ...\n",
        "    while True:\n",
        "      emb = C[torch.tensor([context])] # (1,block_size,d)\n",
        "      h = torch.tanh(emb.view(1, -1) @ W1 + b1)\n",
        "      logits = h @ W2 + b2\n",
        "      probs = F.softmax(logits, dim=1)\n",
        "      ix = torch.multinomial(probs, num_samples=1, generator=g).item()\n",
        "      context = context[1:] + [ix]\n",
        "      out.append(ix)\n",
        "      if ix == 0:\n",
        "        break\n",
        "    \n",
        "    print(''.join(itos[i] for i in out))"
      ],
      "metadata": {
        "colab": {
          "base_uri": "https://localhost:8080/"
        },
        "id": "n4tnAphLhIHR",
        "outputId": "934b601a-759f-4f45-cb5d-a4e36a004077"
      },
      "execution_count": null,
      "outputs": [
        {
          "output_type": "stream",
          "name": "stdout",
          "text": [
            "carmah.\n",
            "aalyn.\n",
            "killim.\n",
            "shreetleenanden.\n",
            "jazhunna.\n",
            "perric.\n",
            "kaeli.\n",
            "nellara.\n",
            "chaiir.\n",
            "kaleigh.\n",
            "ham.\n",
            "pris.\n",
            "quint.\n",
            "suline.\n",
            "liveni.\n",
            "wavero.\n",
            "dearynn.\n",
            "jaxen.\n",
            "durathey.\n",
            "ediia.\n"
          ]
        }
      ]
    },
    {
      "cell_type": "code",
      "source": [],
      "metadata": {
        "id": "w4bUVLA9hLGq"
      },
      "execution_count": null,
      "outputs": []
    }
  ]
}